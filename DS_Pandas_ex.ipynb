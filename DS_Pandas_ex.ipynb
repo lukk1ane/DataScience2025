{
  "nbformat": 4,
  "nbformat_minor": 0,
  "metadata": {
    "colab": {
      "provenance": [],
      "authorship_tag": "ABX9TyNWRWBzkY6ZsDHUaS10NkOz",
      "include_colab_link": true
    },
    "kernelspec": {
      "name": "python3",
      "display_name": "Python 3"
    },
    "language_info": {
      "name": "python"
    }
  },
  "cells": [
    {
      "cell_type": "markdown",
      "metadata": {
        "id": "view-in-github",
        "colab_type": "text"
      },
      "source": [
        "<a href=\"https://colab.research.google.com/github/lukk1ane/DataScience2025/blob/giorgi_kezevadze/DS_Pandas_ex.ipynb\" target=\"_parent\"><img src=\"https://colab.research.google.com/assets/colab-badge.svg\" alt=\"Open In Colab\"/></a>"
      ]
    },
    {
      "cell_type": "markdown",
      "source": [
        "Task 1"
      ],
      "metadata": {
        "id": "Xda7BcXAnsQf"
      }
    },
    {
      "cell_type": "code",
      "execution_count": 3,
      "metadata": {
        "colab": {
          "base_uri": "https://localhost:8080/"
        },
        "id": "tiYyDpblnkkv",
        "outputId": "732e80cd-1142-402d-cba8-e7e6807b6afe"
      },
      "outputs": [
        {
          "output_type": "stream",
          "name": "stdout",
          "text": [
            "a    10\n",
            "b    20\n",
            "c    30\n",
            "d    40\n",
            "e    50\n",
            "dtype: int64\n"
          ]
        }
      ],
      "source": [
        "import pandas as pd\n",
        "\n",
        "data = [10,20,30,40,50]\n",
        "index_labels = ['a','b','c','d','e']\n",
        "series = pd.Series(data, index = index_labels)\n",
        "print(series)"
      ]
    },
    {
      "cell_type": "markdown",
      "source": [
        "Task 2"
      ],
      "metadata": {
        "id": "_3Upk2W2pBZ0"
      }
    },
    {
      "cell_type": "code",
      "source": [
        "data_ = [100,200,300,400,500]\n",
        "series_ = pd.Series(data_, index = index_labels)\n",
        "\n",
        "second_element = series_.iloc[2]\n",
        "print(second_element)\n",
        "\n",
        "example_by_label = series_['d']\n",
        "print(example_by_label)"
      ],
      "metadata": {
        "colab": {
          "base_uri": "https://localhost:8080/"
        },
        "id": "XNbtziigpCbT",
        "outputId": "d122c7d6-66c5-48a5-c0b0-6dd5f350d977"
      },
      "execution_count": 5,
      "outputs": [
        {
          "output_type": "stream",
          "name": "stdout",
          "text": [
            "300\n",
            "400\n"
          ]
        }
      ]
    },
    {
      "cell_type": "markdown",
      "source": [
        "Task 3"
      ],
      "metadata": {
        "id": "MRMjk_dEqJz5"
      }
    },
    {
      "cell_type": "code",
      "source": [
        "series1 = pd.Series([5,10,15,20], index = ['w','x','y','z'])\n",
        "series2 = pd.Series([2,4,6,8], index = ['w','x','y','p'])\n",
        "\n",
        "add_result = series1.add(series2, fill_value = 0)\n",
        "sub_result = series1.sub(series2, fill_value = 0)\n",
        "mul_result = series1.mul(series2, fill_value = 0)\n",
        "div_result = series1.div(series2, fill_value = 0)\n",
        "\n",
        "print(add_result)\n",
        "print(sub_result)\n",
        "print(mul_result)\n",
        "print(div_result)"
      ],
      "metadata": {
        "colab": {
          "base_uri": "https://localhost:8080/"
        },
        "id": "tNgJVEU3qK7P",
        "outputId": "a18ddc44-fb28-4263-a0bf-23a6af9ed72a"
      },
      "execution_count": 7,
      "outputs": [
        {
          "output_type": "stream",
          "name": "stdout",
          "text": [
            "p     8.0\n",
            "w     7.0\n",
            "x    14.0\n",
            "y    21.0\n",
            "z    20.0\n",
            "dtype: float64\n",
            "p    -8.0\n",
            "w     3.0\n",
            "x     6.0\n",
            "y     9.0\n",
            "z    20.0\n",
            "dtype: float64\n",
            "p     0.0\n",
            "w    10.0\n",
            "x    40.0\n",
            "y    90.0\n",
            "z     0.0\n",
            "dtype: float64\n",
            "p    0.0\n",
            "w    2.5\n",
            "x    2.5\n",
            "y    2.5\n",
            "z    inf\n",
            "dtype: float64\n"
          ]
        }
      ]
    },
    {
      "cell_type": "markdown",
      "source": [
        "Task 4"
      ],
      "metadata": {
        "id": "biAfOByMrm9c"
      }
    },
    {
      "cell_type": "code",
      "source": [
        "data = {\n",
        "    'Name': ['Alice', 'Bob', 'Charlie', 'David','Giorgi'],\n",
        "    'Age': [25, 30, 35, 40, 20],\n",
        "    'City': ['New York', 'San Francisco', 'Los Angeles', 'Chicago', 'Tbilisi']\n",
        "}\n",
        "\n",
        "df = pd.DataFrame(data)\n",
        "\n",
        "first_3_rows = df.head(3)\n",
        "print(first_3_rows)\n",
        "print()\n",
        "\n",
        "last_2_rows = df.tail(2)\n",
        "print(last_2_rows)"
      ],
      "metadata": {
        "colab": {
          "base_uri": "https://localhost:8080/"
        },
        "id": "ohBw-qnbrnyf",
        "outputId": "cf88ec68-c97c-4101-c8b7-718d4a20118e"
      },
      "execution_count": 9,
      "outputs": [
        {
          "output_type": "stream",
          "name": "stdout",
          "text": [
            "      Name  Age           City\n",
            "0    Alice   25       New York\n",
            "1      Bob   30  San Francisco\n",
            "2  Charlie   35    Los Angeles\n",
            "\n",
            "     Name  Age     City\n",
            "3   David   40  Chicago\n",
            "4  Giorgi   20  Tbilisi\n"
          ]
        }
      ]
    },
    {
      "cell_type": "markdown",
      "source": [
        "Task 5"
      ],
      "metadata": {
        "id": "hwJgf_YfslZY"
      }
    },
    {
      "cell_type": "code",
      "source": [
        "series = pd.Series([15,22,15,30,22,45,30,15], index = ['a','b','c','d','e','f','g','h'])\n",
        "unique_values = series.nunique()\n",
        "frequencies = series.value_counts()\n",
        "print(unique_values)\n",
        "print(frequencies)"
      ],
      "metadata": {
        "colab": {
          "base_uri": "https://localhost:8080/"
        },
        "id": "lHSWAvi3sr-g",
        "outputId": "f13caaf5-6ce8-4a0c-96a5-387424ae3f38"
      },
      "execution_count": 14,
      "outputs": [
        {
          "output_type": "stream",
          "name": "stdout",
          "text": [
            "4\n",
            "15    3\n",
            "22    2\n",
            "30    2\n",
            "45    1\n",
            "Name: count, dtype: int64\n"
          ]
        }
      ]
    },
    {
      "cell_type": "markdown",
      "source": [
        "Task 6"
      ],
      "metadata": {
        "id": "a4WYOykrtSa3"
      }
    },
    {
      "cell_type": "code",
      "source": [
        "data = {\n",
        "    'Item' : ['apple','banana','peach','orange','mango'],\n",
        "    'Cost' : [1,2,3,4,5]\n",
        "}\n",
        "\n",
        "df = pd.DataFrame(data)\n",
        "df['Tax'] = df['Cost'] * 0.1\n",
        "df['Total'] = df['Cost'] + df['Tax']\n",
        "print(df)"
      ],
      "metadata": {
        "colab": {
          "base_uri": "https://localhost:8080/"
        },
        "id": "-d0ninc-tTVs",
        "outputId": "a2aa147a-bb4c-438a-ec81-2d1a8dd4285d"
      },
      "execution_count": 15,
      "outputs": [
        {
          "output_type": "stream",
          "name": "stdout",
          "text": [
            "     Item  Cost  Tax  Total\n",
            "0   apple     1  0.1    1.1\n",
            "1  banana     2  0.2    2.2\n",
            "2   peach     3  0.3    3.3\n",
            "3  orange     4  0.4    4.4\n",
            "4   mango     5  0.5    5.5\n"
          ]
        }
      ]
    },
    {
      "cell_type": "markdown",
      "source": [
        "Task 7"
      ],
      "metadata": {
        "id": "RZzG8i3Kt_xz"
      }
    },
    {
      "cell_type": "code",
      "source": [
        "data = {\n",
        "    'Product': ['Laptop', 'Smartphone', 'Headphones', 'Monitor', 'Keyboard', 'Mouse', 'Printer', 'Webcam'],\n",
        "    'Category': ['Electronics', 'Electronics', 'Accessories', 'Electronics', 'Accessories', 'Accessories', 'Office', 'Accessories'],\n",
        "    'Price': [1200, 800, 150, 300, 50, 30, 200, 90],\n",
        "    'Stock': [10, 25, 50, 15, 60, 80, 12, 40]\n",
        "}\n",
        "\n",
        "df = pd.DataFrame(data)\n",
        "print(df.isnull())\n",
        "print(df.notnull())\n",
        "print(df['Category'].value_counts())\n",
        "print(df.nlargest(3, 'Price')[['Product', 'Price']])\n",
        "print(df.nsmallest(2,'Price')[['Product', 'Price']])\n",
        "print(df.shape)\n",
        "print(df.ndim)"
      ],
      "metadata": {
        "colab": {
          "base_uri": "https://localhost:8080/"
        },
        "id": "n6xBl13buBAe",
        "outputId": "2abd41ba-1aac-46b4-e445-14e4ede7215d"
      },
      "execution_count": 18,
      "outputs": [
        {
          "output_type": "stream",
          "name": "stdout",
          "text": [
            "   Product  Category  Price  Stock\n",
            "0    False     False  False  False\n",
            "1    False     False  False  False\n",
            "2    False     False  False  False\n",
            "3    False     False  False  False\n",
            "4    False     False  False  False\n",
            "5    False     False  False  False\n",
            "6    False     False  False  False\n",
            "7    False     False  False  False\n",
            "   Product  Category  Price  Stock\n",
            "0     True      True   True   True\n",
            "1     True      True   True   True\n",
            "2     True      True   True   True\n",
            "3     True      True   True   True\n",
            "4     True      True   True   True\n",
            "5     True      True   True   True\n",
            "6     True      True   True   True\n",
            "7     True      True   True   True\n",
            "Category\n",
            "Accessories    4\n",
            "Electronics    3\n",
            "Office         1\n",
            "Name: count, dtype: int64\n",
            "      Product  Price\n",
            "0      Laptop   1200\n",
            "1  Smartphone    800\n",
            "3     Monitor    300\n",
            "    Product  Price\n",
            "5     Mouse     30\n",
            "4  Keyboard     50\n",
            "(8, 4)\n",
            "2\n"
          ]
        }
      ]
    },
    {
      "cell_type": "markdown",
      "source": [
        "Task 8"
      ],
      "metadata": {
        "id": "iilEgNkrvujo"
      }
    },
    {
      "cell_type": "code",
      "source": [
        "data = {\n",
        "    'Student': ['Alice', 'Alice', 'Charlie', 'Diana', 'Bob', 'Fiona', 'George', 'Bob', 'Ian', 'Julia'],\n",
        "    'Subject': ['Math', 'Science', 'English', 'Math', 'History', 'Science', 'English', 'History', 'Math', 'Science'],\n",
        "    'Score': [88, 92, 79, 85, 90, 95, 70, 82, 89, 94],\n",
        "    'Attendance': [95, 88, 90, 92, 97, 99, 85, 93, 91, 96]\n",
        "}\n",
        "\n",
        "df = pd.DataFrame(data)\n",
        "\n",
        "print(df[df.duplicated('Student')]['Student'])\n",
        "print()\n",
        "\n",
        "df = df.drop_duplicates(subset = 'Student')\n",
        "\n",
        "print(df)\n",
        "print()\n",
        "\n",
        "df.set_index('Student', inplace = True)\n",
        "print(df.loc['Alice'])\n",
        "print()\n",
        "\n",
        "print(df.iloc[0:3])\n",
        "print()\n",
        "\n",
        "print(df.query('Score > 80 and Attendance > 85'))\n",
        "print()\n",
        "\n",
        "print(df[df['Score'].between(70, 90)])"
      ],
      "metadata": {
        "colab": {
          "base_uri": "https://localhost:8080/"
        },
        "id": "TwnsB_6EvwAL",
        "outputId": "0ed7b2db-70a2-4c62-90ca-74521b9f6fb3"
      },
      "execution_count": 34,
      "outputs": [
        {
          "output_type": "stream",
          "name": "stdout",
          "text": [
            "1    Alice\n",
            "7      Bob\n",
            "Name: Student, dtype: object\n",
            "\n",
            "   Student  Subject  Score  Attendance\n",
            "0    Alice     Math     88          95\n",
            "2  Charlie  English     79          90\n",
            "3    Diana     Math     85          92\n",
            "4      Bob  History     90          97\n",
            "5    Fiona  Science     95          99\n",
            "6   George  English     70          85\n",
            "8      Ian     Math     89          91\n",
            "9    Julia  Science     94          96\n",
            "\n",
            "Subject       Math\n",
            "Score           88\n",
            "Attendance      95\n",
            "Name: Alice, dtype: object\n",
            "\n",
            "         Subject  Score  Attendance\n",
            "Student                            \n",
            "Alice       Math     88          95\n",
            "Charlie  English     79          90\n",
            "Diana       Math     85          92\n",
            "\n",
            "         Subject  Score  Attendance\n",
            "Student                            \n",
            "Alice       Math     88          95\n",
            "Diana       Math     85          92\n",
            "Bob      History     90          97\n",
            "Fiona    Science     95          99\n",
            "Ian         Math     89          91\n",
            "Julia    Science     94          96\n",
            "\n",
            "         Subject  Score  Attendance\n",
            "Student                            \n",
            "Alice       Math     88          95\n",
            "Charlie  English     79          90\n",
            "Diana       Math     85          92\n",
            "Bob      History     90          97\n",
            "George   English     70          85\n",
            "Ian         Math     89          91\n"
          ]
        }
      ]
    }
  ]
}