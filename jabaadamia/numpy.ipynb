{
 "cells": [
  {
   "cell_type": "code",
   "execution_count": 20,
   "id": "cb93a2ba",
   "metadata": {},
   "outputs": [
    {
     "name": "stdout",
     "output_type": "stream",
     "text": [
      "55\n",
      "3628800\n"
     ]
    }
   ],
   "source": [
    "\"\"\"\n",
    "1. Array Creation and Basic Operations\n",
    " Task: Create a 1D NumPy array containing numbers from 1 to 10. Then, calculate the sum and\n",
    "product of all elements in the array.\n",
    "\"\"\"\n",
    "import numpy as np\n",
    "\n",
    "arr = np.arange(1, 11)\n",
    "print(np.sum(arr))\n",
    "print(np.prod(arr))"
   ]
  },
  {
   "cell_type": "code",
   "execution_count": 21,
   "id": "a01144db",
   "metadata": {},
   "outputs": [
    {
     "name": "stdout",
     "output_type": "stream",
     "text": [
      "[3 4 5 6 7 8]\n"
     ]
    }
   ],
   "source": [
    "\"\"\"\n",
    "2. Array Indexing and Slicing\n",
    " Task: Create a 1D array with numbers from 0 to 20. Extract the elements from index 3 to 8.\n",
    "\"\"\"\n",
    "\n",
    "arr = np.arange(21)\n",
    "print(arr[3:9])"
   ]
  },
  {
   "cell_type": "code",
   "execution_count": 22,
   "id": "92d8fe9e",
   "metadata": {},
   "outputs": [
    {
     "name": "stdout",
     "output_type": "stream",
     "text": [
      "[[3 4]\n",
      " [8 9]]\n"
     ]
    }
   ],
   "source": [
    "\"\"\" \n",
    "3. 2D Array Manipulation\n",
    " Task: Create a 5x5 array with values from 0 to 24. Extract the first two rows and the last two\n",
    "columns.\n",
    "\"\"\"\n",
    "\n",
    "arr = np.arange(25).reshape(5, 5)\n",
    "print(arr[:2, -2:])"
   ]
  },
  {
   "cell_type": "code",
   "execution_count": 23,
   "id": "b0e9866a",
   "metadata": {},
   "outputs": [
    {
     "name": "stdout",
     "output_type": "stream",
     "text": [
      "[ 3  6  9 12]\n",
      "[ 2  8 18 32]\n",
      "[ 0.90929743 -0.7568025  -0.2794155   0.98935825]\n"
     ]
    }
   ],
   "source": [
    "\"\"\" \n",
    "4. Element-wise Mathematical Operations\n",
    " Task: Create two arrays: a = [1, 2, 3, 4] and b = [2, 4, 6, 8]. Perform element-wise addition,\n",
    "multiplication, and calculate the sine of each element in b.\n",
    "\"\"\"\n",
    "\n",
    "a = np.array([1, 2, 3, 4])\n",
    "b = np.array([2, 4, 6, 8])\n",
    "print(a + b)\n",
    "print(a * b)\n",
    "print(np.sin(b))"
   ]
  },
  {
   "cell_type": "code",
   "execution_count": 24,
   "id": "90e5236d",
   "metadata": {},
   "outputs": [
    {
     "name": "stdout",
     "output_type": "stream",
     "text": [
      "[28 29 35 39 30 37]\n"
     ]
    }
   ],
   "source": [
    "\"\"\" \n",
    "idexing and Boolean Masking\n",
    " Task: Create a 1D array with random integers between 0 and 50 (size 20). Extract elements that\n",
    "are greater than 25 and less than 40 using boolean masking.\n",
    "\"\"\"\n",
    "\n",
    "arr = np.random.randint(0, 50, size=20)\n",
    "mask = (arr > 25) & (arr < 40)\n",
    "print(arr[mask])"
   ]
  },
  {
   "cell_type": "code",
   "execution_count": 25,
   "id": "31ce08eb",
   "metadata": {},
   "outputs": [
    {
     "name": "stdout",
     "output_type": "stream",
     "text": [
      "[[ 0  2  4  6  8]\n",
      " [10  0 14 16 18]\n",
      " [20 22  0 26 28]\n",
      " [30 32 34  0 38]\n",
      " [40 42 44 46  0]]\n"
     ]
    }
   ],
   "source": [
    "\"\"\" 6. Multi-dimensional Array Challenge\n",
    " Task: Create a 5x5 matrix using np.arange(25).reshape(5, 5). Set the diagonal elements to zero\n",
    "and multiply all other elements by 2.\n",
    "\"\"\"\n",
    "\n",
    "matrix = np.arange(25).reshape(5, 5)\n",
    "np.fill_diagonal(matrix, 0)\n",
    "matrix[matrix != 0] *= 2\n",
    "print(matrix)"
   ]
  },
  {
   "cell_type": "code",
   "execution_count": 26,
   "id": "66501147",
   "metadata": {},
   "outputs": [
    {
     "name": "stdout",
     "output_type": "stream",
     "text": [
      "[4 5]\n"
     ]
    }
   ],
   "source": [
    "\"\"\" Array Slicing\n",
    " Task: Create a 3x3 NumPy array with values from 1 to 9. Extract the second row and all columns except the last one\n",
    "\"\"\"\n",
    "\n",
    "arr = np.arange(1, 10).reshape(3, 3)\n",
    "print(arr[1, :-1])"
   ]
  },
  {
   "cell_type": "code",
   "execution_count": 27,
   "id": "62564b0d",
   "metadata": {},
   "outputs": [
    {
     "name": "stdout",
     "output_type": "stream",
     "text": [
      "[[1 4]\n",
      " [2 5]\n",
      " [3 6]]\n"
     ]
    }
   ],
   "source": [
    "\"\"\" \n",
    "8. Transposing an Array\n",
    " Task: Create a 2x3 array and transpose it.\n",
    "\"\"\"\n",
    "\n",
    "arr = np.array([[1, 2, 3], [4, 5, 6]])\n",
    "print(arr.T)"
   ]
  },
  {
   "cell_type": "code",
   "execution_count": 28,
   "id": "07ee054a",
   "metadata": {},
   "outputs": [
    {
     "name": "stdout",
     "output_type": "stream",
     "text": [
      "[[11 22 33]\n",
      " [14 25 36]\n",
      " [17 28 39]]\n"
     ]
    }
   ],
   "source": [
    "\"\"\" 9. Broadcasting\n",
    " Task: Create a 3x3 array and a 1x3 array. Use broadcasting to add the 1x3 array to each row of\n",
    "the 3x3 array.\n",
    "\"\"\"\n",
    "\n",
    "arr = np.array([[1, 2, 3], [4, 5, 6], [7, 8, 9]])\n",
    "b = np.array([10, 20, 30])\n",
    "result = arr + b\n",
    "print(result)"
   ]
  },
  {
   "cell_type": "code",
   "execution_count": null,
   "id": "09dffa76",
   "metadata": {},
   "outputs": [],
   "source": [
    "\"\"\" 10. Fancy Indexing with 2D arrays\n",
    " Task: Create a 4x4 array and use fancy indexing to extract the elements at positions (0, 1), (2, 3),\n",
    "and (3, 2).\n",
    "\"\"\"\n",
    "\n",
    "arr = np.arange(16).reshape(4, 4)\n",
    "rows = np.array([0, 2, 3])\n",
    "cols = np.array([1, 3, 2])\n",
    "print(arr[rows, cols])"
   ]
  }
 ],
 "metadata": {
  "kernelspec": {
   "display_name": "ds-env",
   "language": "python",
   "name": "python3"
  },
  "language_info": {
   "codemirror_mode": {
    "name": "ipython",
    "version": 3
   },
   "file_extension": ".py",
   "mimetype": "text/x-python",
   "name": "python",
   "nbconvert_exporter": "python",
   "pygments_lexer": "ipython3",
   "version": "3.13.2"
  }
 },
 "nbformat": 4,
 "nbformat_minor": 5
}
