{
  "nbformat": 4,
  "nbformat_minor": 0,
  "metadata": {
    "colab": {
      "provenance": []
    },
    "kernelspec": {
      "name": "python3",
      "display_name": "Python 3"
    },
    "language_info": {
      "name": "python"
    }
  },
  "cells": [
    {
      "cell_type": "code",
      "execution_count": 4,
      "metadata": {
        "colab": {
          "base_uri": "https://localhost:8080/"
        },
        "id": "zaINB6sjNjAv",
        "outputId": "e6ec1644-f78b-437b-98ee-0e9fb962c982"
      },
      "outputs": [
        {
          "output_type": "stream",
          "name": "stdout",
          "text": [
            "55\n",
            "3628800\n",
            "[ 1  2  3  4  5  6  7  8  9 10]\n"
          ]
        }
      ],
      "source": [
        "import numpy as np\n",
        "\n",
        "arr = np.arange(1,11)\n",
        "print(arr.sum())\n",
        "print(arr.prod())\n",
        "print(arr)"
      ]
    },
    {
      "cell_type": "code",
      "source": [
        "arr1 = np.arange(21)\n",
        "print(arr1[3:9])"
      ],
      "metadata": {
        "colab": {
          "base_uri": "https://localhost:8080/"
        },
        "id": "WX5Y0AO7N6Jy",
        "outputId": "b1411d4b-9934-44e8-e32f-6c64b67e75a2"
      },
      "execution_count": 7,
      "outputs": [
        {
          "output_type": "stream",
          "name": "stdout",
          "text": [
            "[3 4 5 6 7 8]\n"
          ]
        }
      ]
    },
    {
      "cell_type": "code",
      "source": [
        "matrix = np.arange(1,26).reshape(5,5)\n",
        "print(matrix)\n",
        "print(matrix[:2,-2:])"
      ],
      "metadata": {
        "colab": {
          "base_uri": "https://localhost:8080/"
        },
        "id": "NoRY2ORwOQBJ",
        "outputId": "9a49b94a-e4a5-434c-fb28-0e03f8446097"
      },
      "execution_count": 15,
      "outputs": [
        {
          "output_type": "stream",
          "name": "stdout",
          "text": [
            "[[ 1  2  3  4  5]\n",
            " [ 6  7  8  9 10]\n",
            " [11 12 13 14 15]\n",
            " [16 17 18 19 20]\n",
            " [21 22 23 24 25]]\n",
            "[[ 4  5]\n",
            " [ 9 10]]\n"
          ]
        }
      ]
    },
    {
      "cell_type": "code",
      "source": [
        "a = np.array([1,2,3,4])\n",
        "b = np.array([2,4,6,8])\n",
        "\n",
        "print(a + b)\n",
        "print(a*b)"
      ],
      "metadata": {
        "colab": {
          "base_uri": "https://localhost:8080/"
        },
        "id": "BkNxdxJ4OrOL",
        "outputId": "30297efd-0fee-4b73-9d82-1fe519e0e012"
      },
      "execution_count": 16,
      "outputs": [
        {
          "output_type": "stream",
          "name": "stdout",
          "text": [
            "[ 3  6  9 12]\n",
            "[ 2  8 18 32]\n"
          ]
        }
      ]
    },
    {
      "cell_type": "code",
      "source": [
        "arr = np.arange(25).reshape(5, 5)\n",
        "x = 0\n",
        "while x < 5:\n",
        "  arr[x,x] = 0\n",
        "  x+=1\n",
        "arr = arr * 2\n",
        "print(arr)"
      ],
      "metadata": {
        "colab": {
          "base_uri": "https://localhost:8080/"
        },
        "id": "IB4sHaCSOruA",
        "outputId": "4c8acb83-f8c6-4062-d8b3-97b194c5389f"
      },
      "execution_count": 19,
      "outputs": [
        {
          "output_type": "stream",
          "name": "stdout",
          "text": [
            "[[ 0  2  4  6  8]\n",
            " [10  0 14 16 18]\n",
            " [20 22  0 26 28]\n",
            " [30 32 34  0 38]\n",
            " [40 42 44 46  0]]\n"
          ]
        }
      ]
    },
    {
      "cell_type": "code",
      "source": [
        "arr = np.arange(1, 10).reshape(3, 3)\n",
        "print(arr[1, :-1])"
      ],
      "metadata": {
        "colab": {
          "base_uri": "https://localhost:8080/"
        },
        "id": "uYQni5L2PMkm",
        "outputId": "45d27b6b-5dfa-49b1-ec50-0080000b6080"
      },
      "execution_count": 20,
      "outputs": [
        {
          "output_type": "stream",
          "name": "stdout",
          "text": [
            "[4 5]\n"
          ]
        }
      ]
    },
    {
      "cell_type": "code",
      "source": [
        "arr = np.array([[1, 2, 3], [4, 5, 6]])\n",
        "print(arr.T)\n"
      ],
      "metadata": {
        "colab": {
          "base_uri": "https://localhost:8080/"
        },
        "id": "Ss_Pb9hdP_mS",
        "outputId": "fa21095c-46af-48c9-c4fe-935f7df27e2f"
      },
      "execution_count": 21,
      "outputs": [
        {
          "output_type": "stream",
          "name": "stdout",
          "text": [
            "[[1 4]\n",
            " [2 5]\n",
            " [3 6]]\n"
          ]
        }
      ]
    },
    {
      "cell_type": "code",
      "source": [
        "a = np.ones((3, 3))\n",
        "b = np.array([1, 2, 3])\n",
        "print(a + b)\n"
      ],
      "metadata": {
        "colab": {
          "base_uri": "https://localhost:8080/"
        },
        "id": "0Zti1_lgPOym",
        "outputId": "90fa1192-dda1-4c04-c4c3-0fc161496f7a"
      },
      "execution_count": 22,
      "outputs": [
        {
          "output_type": "stream",
          "name": "stdout",
          "text": [
            "[[2. 3. 4.]\n",
            " [2. 3. 4.]\n",
            " [2. 3. 4.]]\n"
          ]
        }
      ]
    },
    {
      "cell_type": "code",
      "source": [
        "arr = np.arange(16).reshape(4, 4)\n",
        "print(arr[[0, 2, 3], [1, 3, 2]])\n"
      ],
      "metadata": {
        "colab": {
          "base_uri": "https://localhost:8080/"
        },
        "id": "o6qJi0HMQGrr",
        "outputId": "35599d4a-f7f8-4a23-a752-7881687dc50a"
      },
      "execution_count": 23,
      "outputs": [
        {
          "output_type": "stream",
          "name": "stdout",
          "text": [
            "[ 1 11 14]\n"
          ]
        }
      ]
    }
  ]
}