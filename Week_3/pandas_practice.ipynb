{
 "cells": [
  {
   "cell_type": "markdown",
   "id": "e93544e5",
   "metadata": {},
   "source": [
    "# Task 1"
   ]
  },
  {
   "cell_type": "code",
   "execution_count": 3,
   "id": "61f40b81",
   "metadata": {},
   "outputs": [
    {
     "name": "stdout",
     "output_type": "stream",
     "text": [
      "a    10\n",
      "b    20\n",
      "c    30\n",
      "d    40\n",
      "e    50\n",
      "dtype: int64\n"
     ]
    }
   ],
   "source": [
    "import pandas as pd\n",
    "\n",
    "nums = [10,20,30,40,50]\n",
    "labels = ['a','b','c','d','e']\n",
    "\n",
    "sr = pd.Series(nums, index=labels)\n",
    "\n",
    "print(sr)\n",
    "\n"
   ]
  },
  {
   "cell_type": "markdown",
   "id": "92a130d8",
   "metadata": {},
   "source": [
    "# Task 2"
   ]
  },
  {
   "cell_type": "code",
   "execution_count": 4,
   "id": "1b5b839d",
   "metadata": {},
   "outputs": [
    {
     "name": "stdout",
     "output_type": "stream",
     "text": [
      "200\n"
     ]
    }
   ],
   "source": [
    "sr = pd.Series([100,200,300,400,500], index=[1,2,3,4,5])\n",
    "\n",
    "print(sr[2])"
   ]
  },
  {
   "cell_type": "markdown",
   "id": "9b4f306a",
   "metadata": {},
   "source": [
    "# Task 3"
   ]
  },
  {
   "cell_type": "code",
   "execution_count": 5,
   "id": "a24e1074",
   "metadata": {},
   "outputs": [
    {
     "name": "stdout",
     "output_type": "stream",
     "text": [
      "\n",
      " subtraction: p    -8.0\n",
      "w     3.0\n",
      "x     6.0\n",
      "y     9.0\n",
      "z    20.0\n",
      "dtype: float64 \n",
      " addition: p     8.0\n",
      "w     7.0\n",
      "x    14.0\n",
      "y    21.0\n",
      "z    20.0\n",
      "dtype: float64\n",
      " multiplication: p     8.0\n",
      "w    10.0\n",
      "x    40.0\n",
      "y    90.0\n",
      "z    20.0\n",
      "dtype: float64\n",
      " divison: p     0.125\n",
      "w     2.500\n",
      "x     2.500\n",
      "y     2.500\n",
      "z    20.000\n",
      "dtype: float64\n"
     ]
    }
   ],
   "source": [
    "sr1 = pd.Series([5,10,15,20], index=['w','x','y','z'])\n",
    "sr2 = pd.Series([2,4,6,8], index=['w','x','y','p'])\n",
    "\n",
    "sub = sr1.subtract(sr2, fill_value=0)\n",
    "add = sr1.add(sr2, fill_value=0)\n",
    "mult = sr1.multiply(sr2, fill_value=1)\n",
    "divide = sr1.div(sr2, fill_value=1)\n",
    "\n",
    "print(f\"\\n subtraction: {sub} \\n addition: {add}\\n multiplication: {mult}\\n divison: {divide}\")"
   ]
  },
  {
   "cell_type": "markdown",
   "id": "c0d231c8",
   "metadata": {},
   "source": [
    "# Task 4"
   ]
  },
  {
   "cell_type": "code",
   "execution_count": 6,
   "id": "e0abf975",
   "metadata": {},
   "outputs": [
    {
     "name": "stdout",
     "output_type": "stream",
     "text": [
      "    0   1   2   3   4\n",
      "0  46  15  26  14  81\n",
      "1  79  87  71  57  52\n",
      "2  98  11  46  69  31\n",
      "    0   1   2   3   4\n",
      "3  36  36  71  95  12\n",
      "4  42  19  57  35  48\n",
      "    0   1   2   3   4\n",
      "0  46  15  26  14  81\n",
      "1  79  87  71  57  52\n",
      "2  98  11  46  69  31\n",
      "3  36  36  71  95  12\n",
      "4  42  19  57  35  48\n",
      "    0   1   2   3   4\n",
      "0  46  15  26  14  81\n",
      "1  79  87  71  57  52\n",
      "    0   1   2   3   4\n",
      "2  98  11  46  69  31\n",
      "3  36  36  71  95  12\n",
      "4  42  19  57  35  48\n"
     ]
    }
   ],
   "source": [
    "import numpy as np\n",
    "\n",
    "df = pd.DataFrame(np.random.randint(1,100, (5,5)))\n",
    "\n",
    "print(df.head(3))\n",
    "print(df.tail(2))\n",
    "print(df)\n",
    "print(df.head(-3))\n",
    "print(df.tail(-2))\n",
    "\n"
   ]
  },
  {
   "cell_type": "markdown",
   "id": "9551598a",
   "metadata": {},
   "source": [
    "# Task 5"
   ]
  },
  {
   "cell_type": "code",
   "execution_count": 7,
   "id": "4de4363b",
   "metadata": {},
   "outputs": [
    {
     "name": "stdout",
     "output_type": "stream",
     "text": [
      "unique values: [15 22 30 45]\n",
      "\n",
      "number of inique values: 4\n",
      "\n",
      "frequency: 15    3\n",
      "22    2\n",
      "30    2\n",
      "45    1\n",
      "Name: count, dtype: int64\n"
     ]
    },
    {
     "name": "stderr",
     "output_type": "stream",
     "text": [
      "/var/folders/1f/04bpzbbn7jgbqp9vr5pqv5y00000gn/T/ipykernel_51880/102507579.py:6: FutureWarning: pandas.value_counts is deprecated and will be removed in a future version. Use pd.Series(obj).value_counts() instead.\n",
      "  frequency = pd.value_counts(sr)\n"
     ]
    }
   ],
   "source": [
    "sr = pd.Series([15,22,15,30,22,45,30,15])\n",
    "\n",
    "unique_values = sr.unique()\n",
    "number_of_unique_values = sr.nunique()\n",
    "\n",
    "frequency = pd.value_counts(sr)\n",
    "\n",
    "print(f'unique values: {unique_values}\\n')\n",
    "print(f\"number of inique values: {number_of_unique_values}\\n\")\n",
    "print(f\"frequency: {frequency}\")\n"
   ]
  },
  {
   "cell_type": "markdown",
   "id": "9077f7c3",
   "metadata": {},
   "source": [
    "# Task 6"
   ]
  },
  {
   "cell_type": "code",
   "execution_count": 23,
   "id": "0013bacf",
   "metadata": {},
   "outputs": [
    {
     "name": "stdout",
     "output_type": "stream",
     "text": [
      "                   product     category  price  stock\n",
      "0         SlateBlue Camera  Electronics    660      5\n",
      "1             Purple Phone         Home    565      3\n",
      "2             Khaki Laptop     Clothing    852      6\n",
      "3         Gainsboro Laptop  Electronics    250      5\n",
      "4  MediumAquaMarine Camera       Sports    336      5\n",
      "5   MediumAquaMarine Phone       Sports    374      9\n",
      "6        NavajoWhite Chair  Electronics    965      7\n",
      "7         SandyBrown Phone  Electronics    442      7\n",
      "dimension: 2\n",
      "shape of the data frame: (8, 4)\n"
     ]
    }
   ],
   "source": [
    "from faker import Faker\n",
    "\n",
    "fake = Faker()\n",
    "import random\n",
    "\n",
    "random.seed(42)\n",
    "\n",
    "\n",
    "categories = ['Electronics', 'Clothing', 'Home', 'Beauty', 'Sports']\n",
    "products = ['Phone', 'Laptop', 'Shoes', 'Chair', 'Watch', 'Camera']\n",
    "\n",
    "df = pd.DataFrame([\n",
    "    {\n",
    "        \"product\": f\"{fake.color_name()} {random.choice(products)}\",\n",
    "        \"category\": random.choice(categories),\n",
    "        \"price\": np.random.randint(100, 1000),\n",
    "        \"stock\": np.random.randint(1, 10)\n",
    "    }\n",
    "    for _ in range(8)\n",
    "])\n",
    "\n",
    "print(df)\n",
    "\n",
    "df.isnull()\n",
    "df.notnull()\n",
    "df[\"category\"].value_counts()\n",
    "df['price'].nlargest(3)\n",
    "df['price'].nsmallest(2)\n",
    "\n",
    "print(f\"dimension: {df.ndim}\")\n",
    "print(f\"shape of the data frame: {df.shape}\")"
   ]
  },
  {
   "cell_type": "markdown",
   "id": "491cac43",
   "metadata": {},
   "source": [
    "# Task 8"
   ]
  },
  {
   "cell_type": "code",
   "execution_count": 42,
   "id": "b3da7a6a",
   "metadata": {},
   "outputs": [
    {
     "name": "stdout",
     "output_type": "stream",
     "text": [
      "Original DataFrame:\n",
      "            student    subject  score  attendance\n",
      "0      Jason Garcia  Chemistry     94          78\n",
      "1   Peter Henderson    History     80          79\n",
      "2         Kyle Gray    Physics     96          56\n",
      "3         Kyle Gray    Physics     85          91\n",
      "4   Peter Henderson       Math     87          74\n",
      "5         Kyle Gray    English     79          99\n",
      "6      Gary Johnson    Biology     96          81\n",
      "7         Kyle Gray  Chemistry     85          83\n",
      "8         Kyle Gray    English     71          82\n",
      "9      Jason Garcia    Biology     73          83\n",
      "10     Jason Garcia    Biology     53          68\n",
      "11        Kyle Gray    Physics     75          92 \n",
      "\n",
      "Duplicated flags:\n",
      "0     False\n",
      "1     False\n",
      "2     False\n",
      "3      True\n",
      "4      True\n",
      "5      True\n",
      "6     False\n",
      "7      True\n",
      "8      True\n",
      "9      True\n",
      "10     True\n",
      "11     True\n",
      "Name: student, dtype: bool \n",
      "\n",
      "After removing duplicates:\n",
      "           student    subject  score  attendance\n",
      "0     Jason Garcia  Chemistry     94          78\n",
      "1  Peter Henderson    History     80          79\n",
      "2        Kyle Gray    Physics     96          56\n",
      "6     Gary Johnson    Biology     96          81 \n",
      "\n",
      "Data for Jason Garcia:\n",
      "                subject  score  attendance\n",
      "student                                   \n",
      "Jason Garcia  Chemistry     94          78\n",
      "Jason Garcia    Biology     73          83\n",
      "Jason Garcia    Biology     53          68\n",
      "                   subject  score  attendance\n",
      "student                                      \n",
      "Jason Garcia     Chemistry     94          78\n",
      "Peter Henderson    History     80          79\n",
      "Kyle Gray          Physics     96          56\n"
     ]
    },
    {
     "data": {
      "text/html": [
       "<div>\n",
       "<style scoped>\n",
       "    .dataframe tbody tr th:only-of-type {\n",
       "        vertical-align: middle;\n",
       "    }\n",
       "\n",
       "    .dataframe tbody tr th {\n",
       "        vertical-align: top;\n",
       "    }\n",
       "\n",
       "    .dataframe thead th {\n",
       "        text-align: right;\n",
       "    }\n",
       "</style>\n",
       "<table border=\"1\" class=\"dataframe\">\n",
       "  <thead>\n",
       "    <tr style=\"text-align: right;\">\n",
       "      <th></th>\n",
       "      <th>subject</th>\n",
       "      <th>score</th>\n",
       "      <th>attendance</th>\n",
       "    </tr>\n",
       "    <tr>\n",
       "      <th>student</th>\n",
       "      <th></th>\n",
       "      <th></th>\n",
       "      <th></th>\n",
       "    </tr>\n",
       "  </thead>\n",
       "  <tbody>\n",
       "    <tr>\n",
       "      <th>Peter Henderson</th>\n",
       "      <td>History</td>\n",
       "      <td>80</td>\n",
       "      <td>79</td>\n",
       "    </tr>\n",
       "    <tr>\n",
       "      <th>Kyle Gray</th>\n",
       "      <td>Physics</td>\n",
       "      <td>85</td>\n",
       "      <td>91</td>\n",
       "    </tr>\n",
       "    <tr>\n",
       "      <th>Peter Henderson</th>\n",
       "      <td>Math</td>\n",
       "      <td>87</td>\n",
       "      <td>74</td>\n",
       "    </tr>\n",
       "    <tr>\n",
       "      <th>Kyle Gray</th>\n",
       "      <td>English</td>\n",
       "      <td>79</td>\n",
       "      <td>99</td>\n",
       "    </tr>\n",
       "    <tr>\n",
       "      <th>Kyle Gray</th>\n",
       "      <td>Chemistry</td>\n",
       "      <td>85</td>\n",
       "      <td>83</td>\n",
       "    </tr>\n",
       "    <tr>\n",
       "      <th>Kyle Gray</th>\n",
       "      <td>English</td>\n",
       "      <td>71</td>\n",
       "      <td>82</td>\n",
       "    </tr>\n",
       "    <tr>\n",
       "      <th>Jason Garcia</th>\n",
       "      <td>Biology</td>\n",
       "      <td>73</td>\n",
       "      <td>83</td>\n",
       "    </tr>\n",
       "    <tr>\n",
       "      <th>Kyle Gray</th>\n",
       "      <td>Physics</td>\n",
       "      <td>75</td>\n",
       "      <td>92</td>\n",
       "    </tr>\n",
       "  </tbody>\n",
       "</table>\n",
       "</div>"
      ],
      "text/plain": [
       "                   subject  score  attendance\n",
       "student                                      \n",
       "Peter Henderson    History     80          79\n",
       "Kyle Gray          Physics     85          91\n",
       "Peter Henderson       Math     87          74\n",
       "Kyle Gray          English     79          99\n",
       "Kyle Gray        Chemistry     85          83\n",
       "Kyle Gray          English     71          82\n",
       "Jason Garcia       Biology     73          83\n",
       "Kyle Gray          Physics     75          92"
      ]
     },
     "execution_count": 42,
     "metadata": {},
     "output_type": "execute_result"
    }
   ],
   "source": [
    "student_pool = [fake.name() for _ in range(4)]  \n",
    "subjects = ['Math', 'Physics', 'Chemistry', 'Biology', 'History', 'English']\n",
    "\n",
    "df = pd.DataFrame(\n",
    "    [\n",
    "        {\n",
    "            \"student\": random.choice(student_pool),  \n",
    "            \"subject\": random.choice(subjects),\n",
    "            \"score\": np.random.randint(51, 100),\n",
    "            \"attendance\": np.random.randint(51, 100)\n",
    "        }\n",
    "        for _ in range(12)\n",
    "    ]\n",
    ")\n",
    "\n",
    "print(\"Original DataFrame:\")\n",
    "print(df, \"\\n\")\n",
    "\n",
    "duplicate_names = df['student'].duplicated()\n",
    "print(\"Duplicated flags:\")\n",
    "print(duplicate_names, \"\\n\")\n",
    "\n",
    "df_unique = df.drop_duplicates(subset='student')\n",
    "print(\"After removing duplicates:\")\n",
    "print(df_unique, \"\\n\")\n",
    "\n",
    "df.set_index('student', inplace=True)\n",
    "\n",
    "\n",
    "name = df.index[0]  \n",
    "print(f\"Data for {name}:\")\n",
    "print(df.loc[name])\n",
    "\n",
    "print(df.iloc[:3,:])\n",
    "\n",
    "df.query(\"score > 80 and attendance > 85\")\n",
    "\n",
    "df[df[\"score\"].between(70, 90)]\n"
   ]
  }
 ],
 "metadata": {
  "kernelspec": {
   "display_name": "Python 3",
   "language": "python",
   "name": "python3"
  },
  "language_info": {
   "codemirror_mode": {
    "name": "ipython",
    "version": 3
   },
   "file_extension": ".py",
   "mimetype": "text/x-python",
   "name": "python",
   "nbconvert_exporter": "python",
   "pygments_lexer": "ipython3",
   "version": "3.12.4"
  }
 },
 "nbformat": 4,
 "nbformat_minor": 5
}
