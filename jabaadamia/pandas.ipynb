{
 "cells": [
  {
   "cell_type": "code",
   "execution_count": 71,
   "id": "8d023e79",
   "metadata": {},
   "outputs": [
    {
     "name": "stdout",
     "output_type": "stream",
     "text": [
      "a    10\n",
      "b    20\n",
      "c    30\n",
      "d    40\n",
      "e    50\n",
      "dtype: int64\n"
     ]
    }
   ],
   "source": [
    "\"\"\" \n",
    "Task 1\n",
    "Create a Pandas Series with custom index labels. Use the data [10, 20, 30, 40, 50] and index\n",
    "labels ['a', 'b', 'c', 'd', 'e'] and display it.\n",
    "\"\"\"\n",
    "\n",
    "import pandas as pd\n",
    "\n",
    "s = pd.Series([10, 20, 30, 40, 50], index=['a', 'b', 'c', 'd', 'e'])\n",
    "print(s)"
   ]
  },
  {
   "cell_type": "code",
   "execution_count": 72,
   "id": "8de28052",
   "metadata": {},
   "outputs": [
    {
     "name": "stdout",
     "output_type": "stream",
     "text": [
      "300\n",
      "A    100\n",
      "B    200\n",
      "C    300\n",
      "D    400\n",
      "E    500\n",
      "dtype: int64\n"
     ]
    }
   ],
   "source": [
    "\"\"\" \n",
    "Task 2\n",
    "Access the element at position 2 from a Series created from the list [100, 200, 300, 400, 500].\n",
    "Also give any example of labelled indexing for that list and display it.\n",
    "\"\"\"\n",
    "l = [100, 200, 300, 400, 500]\n",
    "s = pd.Series(l)\n",
    "print(s[2])\n",
    "s.index = ['A', 'B', 'C', 'D', 'E']\n",
    "print(s)"
   ]
  },
  {
   "cell_type": "code",
   "execution_count": 73,
   "id": "c4a95d6b",
   "metadata": {},
   "outputs": [
    {
     "name": "stdout",
     "output_type": "stream",
     "text": [
      "p     0.0\n",
      "w     7.0\n",
      "x    14.0\n",
      "y    21.0\n",
      "z     0.0\n",
      "dtype: float64\n",
      "p    0.0\n",
      "w    3.0\n",
      "x    6.0\n",
      "y    9.0\n",
      "z    0.0\n",
      "dtype: float64\n",
      "p     0.0\n",
      "w    10.0\n",
      "x    40.0\n",
      "y    90.0\n",
      "z     0.0\n",
      "dtype: float64\n",
      "p    0.0\n",
      "w    2.5\n",
      "x    2.5\n",
      "y    2.5\n",
      "z    0.0\n",
      "dtype: float64\n"
     ]
    }
   ],
   "source": [
    "\"\"\"\n",
    "Task 3\n",
    "Create two Series: Series1 with values [5, 10, 15, 20] and index ['w', 'x', 'y', 'z'], and Series2 with\n",
    "values [2, 4, 6, 8] and index ['w', 'x', 'y', 'p']. Add, Subtract, Multiply and divide these two Series\n",
    "together. Handle possible NaN values.\n",
    "\"\"\"\n",
    "\n",
    "series1 = pd.Series([5,10,15,20], index=['w','x','y','z'])\n",
    "series2 = pd.Series([2,4,6,8], index=['w','x','y','p'])\n",
    "\n",
    "sum_series = (series1 + series2).fillna(0)\n",
    "print(sum_series)\n",
    "diference_series = (series1 - series2).fillna(0)\n",
    "print(diference_series)\n",
    "product_series = (series1 * series2).fillna(0)\n",
    "print(product_series)\n",
    "divided_series = (series1 / series2).fillna(0)\n",
    "print(divided_series)"
   ]
  },
  {
   "cell_type": "code",
   "execution_count": 74,
   "id": "a828f766",
   "metadata": {},
   "outputs": [
    {
     "name": "stdout",
     "output_type": "stream",
     "text": [
      "   Name  Age\n",
      "0   Ana   24\n",
      "1   Bob   30\n",
      "2  Nika   22 \n",
      "\n",
      "   Name  Age\n",
      "4   Eva   28\n",
      "5  Gela   99 \n",
      "\n",
      "    Name  Age\n",
      "0    Ana   24\n",
      "1    Bob   30\n",
      "2   Nika   22\n",
      "3  Davit   35\n",
      "4    Eva   28 \n",
      "\n",
      "    Name  Age\n",
      "2   Nika   22\n",
      "3  Davit   35\n",
      "4    Eva   28\n",
      "5   Gela   99 \n",
      "\n"
     ]
    }
   ],
   "source": [
    "\"\"\" \n",
    "Task 4\n",
    "Create a DataFrame with at least 5 rows and use the head() method to display the first 3 rows.\n",
    "Then use the tail() method to display the last 2 rows. Also, try experimenting with the default\n",
    "value and negative arguments for the these methods.\n",
    "\"\"\"\n",
    "\n",
    "df = pd.DataFrame({\n",
    "    'Name': ['Ana', 'Bob', 'Nika', 'Davit', 'Eva', 'Gela'],\n",
    "    'Age': [24, 30, 22, 35, 28, 99]\n",
    "})\n",
    "\n",
    "print(df.head(3), '\\n')\n",
    "print(df.tail(2), '\\n')\n",
    "print(df.head(), '\\n')\n",
    "print(df.tail(-2), '\\n')"
   ]
  },
  {
   "cell_type": "code",
   "execution_count": 75,
   "id": "63c1a14e",
   "metadata": {},
   "outputs": [
    {
     "name": "stdout",
     "output_type": "stream",
     "text": [
      "4\n",
      "15    3\n",
      "22    2\n",
      "30    2\n",
      "45    1\n",
      "Name: count, dtype: int64\n"
     ]
    }
   ],
   "source": [
    "\"\"\"\n",
    "Task 5\n",
    "Create a Series from [15, 22, 15, 30, 22, 45, 30, 15]. Find the unique values, count how many\n",
    "unique values there are using nunique(), and display the frequency of each value using\n",
    "value_counts().\n",
    "\"\"\"\n",
    "\n",
    "series = pd.Series([15, 22, 15, 30, 22, 45, 30, 15])\n",
    "unique_values = series.nunique()\n",
    "print(unique_values)\n",
    "value_counts = series.value_counts()\n",
    "print(value_counts)"
   ]
  },
  {
   "cell_type": "code",
   "execution_count": 76,
   "id": "79eb6433",
   "metadata": {},
   "outputs": [
    {
     "name": "stdout",
     "output_type": "stream",
     "text": [
      "    Item  Cost   Tax  Total\n",
      "0  item1   100  10.0  110.0\n",
      "3  item4    60   6.0   66.0\n"
     ]
    }
   ],
   "source": [
    "\"\"\" \n",
    "Task 6\n",
    "Create a DataFrame with columns 'Item' and 'Cost' containing at least 5 items. Add a new\n",
    "column called 'Tax' that is 10% of the Cost. Add another column called 'Total' which is Cost plus\n",
    "Tax. Then filter and display only the rows where Total is greater than 50.\n",
    "\"\"\"\n",
    "\n",
    "df = pd.DataFrame({\n",
    "    'Item': ['item1', 'item2', 'item3', 'item4', 'item5'],\n",
    "    'Cost': [100, 30, 45, 60, 20]\n",
    "})\n",
    "\n",
    "df['Tax'] = df['Cost']*0.1\n",
    "df['Total'] = df['Cost']+df['Tax']\n",
    "\n",
    "filtered_df = df[df['Total'] > 50]\n",
    "\n",
    "print(filtered_df)"
   ]
  },
  {
   "cell_type": "code",
   "execution_count": 77,
   "id": "95271152",
   "metadata": {},
   "outputs": [
    {
     "name": "stdout",
     "output_type": "stream",
     "text": [
      "   Product  Category  Price  Stock\n",
      "0    False     False  False  False\n",
      "1    False     False  False  False\n",
      "2    False     False  False  False\n",
      "3    False     False  False  False\n",
      "4    False     False  False  False\n",
      "5    False     False  False  False\n",
      "6    False     False  False  False\n",
      "7    False     False  False  False \n",
      "\n",
      "   Product  Category  Price  Stock\n",
      "0     True      True   True   True\n",
      "1     True      True   True   True\n",
      "2     True      True   True   True\n",
      "3     True      True   True   True\n",
      "4     True      True   True   True\n",
      "5     True      True   True   True\n",
      "6     True      True   True   True\n",
      "7     True      True   True   True \n",
      "\n",
      "Category\n",
      "cat1    3\n",
      "cat2    3\n",
      "cat3    2\n",
      "Name: count, dtype: int64 \n",
      "\n",
      "  Product Category  Price  Stock\n",
      "5      p6     cat1    400     12\n",
      "6      p7     cat3    350      3\n",
      "3      p4     cat3    300      8 \n",
      "\n",
      "  Product Category  Price  Stock\n",
      "6      p7     cat3    350      3\n",
      "1      p2     cat2    200      5 \n",
      "\n",
      "(8, 4) \n",
      "\n",
      "2 \n",
      "\n"
     ]
    }
   ],
   "source": [
    "\"\"\" \n",
    "Task 7\n",
    "Create a DataFrame with columns 'Product', 'Category', 'Price', 'Stock' containing at least 8\n",
    "products from different categories. Then perform the following operations:\n",
    "• Use isnull() and notnull() to check for missing values\n",
    "• Use value_counts() on the Category column to count products in each category\n",
    "• Use nlargest() to find the top 3 most expensive products\n",
    "• Use nsmallest() to find the 2 products with the lowest stock\n",
    "• Display the shape and ndim of the DataFrame\n",
    "\"\"\"\n",
    "\n",
    "df = pd.DataFrame({\n",
    "    'Product': ['p1', 'p2', 'p3', 'p4', 'p5', 'p6', 'p7', 'p8'],\n",
    "    'Category': ['cat1', 'cat2', 'cat1', 'cat3', 'cat2', 'cat1', 'cat3', 'cat2'],\n",
    "    'Price': [100, 200, 150, 300, 250, 400, 350, 50],\n",
    "    'Stock': [10, 5, 15, 8, 20, 12, 3, 25]\n",
    "})\n",
    "\n",
    "print(df.isnull(), '\\n')\n",
    "print(df.notnull(), '\\n')\n",
    "print(df['Category'].value_counts(), '\\n')\n",
    "print(df.nlargest(3, 'Price'), '\\n')\n",
    "print(df.nsmallest(2, 'Stock'), '\\n')\n",
    "print(df.shape, '\\n')\n",
    "print(df.ndim, '\\n')"
   ]
  },
  {
   "cell_type": "code",
   "execution_count": 78,
   "id": "d52d484b",
   "metadata": {},
   "outputs": [
    {
     "name": "stdout",
     "output_type": "stream",
     "text": [
      "  Student  Subject  Score  Attendance\n",
      "6     Bob  History     80          95\n",
      "8     Ana     Math     73          83\n",
      "9      Ia  Biology     89          91 \n",
      "\n",
      "   Student  Subject  Score  Attendance\n",
      "0      Ana     Math     85          90\n",
      "1      Bob  Biology     90          85\n",
      "2  Charlie  History     78          88\n",
      "3    Alice  English     88          92\n",
      "4      Eve     Math     92          80\n",
      "5       Ia  Biology     67          75\n",
      "7    Grace  English     95          87 \n",
      "\n",
      "         Subject  Score  Attendance\n",
      "Student                            \n",
      "Bob      Biology     90          85\n",
      "Bob      History     80          95 \n",
      "\n",
      "   Student  Subject  Score  Attendance\n",
      "0      Ana     Math     85          90\n",
      "1      Bob  Biology     90          85\n",
      "2  Charlie  History     78          88\n",
      "  Student  Subject  Score  Attendance\n",
      "0     Ana     Math     85          90\n",
      "3   Alice  English     88          92\n",
      "7   Grace  English     95          87\n",
      "9      Ia  Biology     89          91 \n",
      "\n",
      "   Student  Subject  Score  Attendance\n",
      "0      Ana     Math     85          90\n",
      "1      Bob  Biology     90          85\n",
      "2  Charlie  History     78          88\n",
      "3    Alice  English     88          92\n",
      "6      Bob  History     80          95\n",
      "8      Ana     Math     73          83\n",
      "9       Ia  Biology     89          91\n"
     ]
    }
   ],
   "source": [
    "\"\"\"\n",
    "Task 8\n",
    "Create a DataFrame with columns 'Student', 'Subject', 'Score', 'Attendance' containing at least 10\n",
    "students with some duplicate student names taking different subjects. Then perform the\n",
    "following operations:\n",
    "• Use duplicated() to identify duplicate student names\n",
    "• Use drop_duplicates() to remove duplicate student names keeping the first occurrence\n",
    "• Use set_index() to set Student as the index\n",
    "• Use loc[] to retrieve data for a specific student\n",
    "• Use iloc[] to retrieve the first 3 rows\n",
    "• Use query() method to find students with Score greater than 80 and Attendance greater\n",
    "than 85\n",
    "• Use between() to find students with scores between 70 and 90\n",
    "\"\"\"\n",
    "\n",
    "df = pd.DataFrame({\n",
    "    'Student': ['Ana', 'Bob', 'Charlie', 'Alice', 'Eve', 'Ia', 'Bob', 'Grace', 'Ana', 'Ia'],\n",
    "    'Subject': ['Math', 'Biology', 'History', 'English', 'Math', 'Biology', 'History', 'English', 'Math', 'Biology'],\n",
    "    'Score': [85, 90, 78, 88, 92, 67, 80, 95, 73, 89],\n",
    "    'Attendance': [90, 85, 88, 92, 80, 75, 95, 87, 83, 91]\n",
    "})\n",
    "\n",
    "print(df[df.duplicated(subset=['Student'])], '\\n')\n",
    "df_no_duplicates = df.drop_duplicates(subset=['Student'], keep='first')\n",
    "print(df_no_duplicates, '\\n')\n",
    "df_indexed = df.set_index('Student')\n",
    "print(df_indexed.loc['Bob'], '\\n')\n",
    "print(df.iloc[:3])\n",
    "filtered_df = df.query('Score > 80 and Attendance > 85')\n",
    "print(filtered_df, '\\n')\n",
    "score_between = df[df['Score'].between(70, 90)]\n",
    "print(score_between)"
   ]
  }
 ],
 "metadata": {
  "kernelspec": {
   "display_name": "ds-env",
   "language": "python",
   "name": "python3"
  },
  "language_info": {
   "codemirror_mode": {
    "name": "ipython",
    "version": 3
   },
   "file_extension": ".py",
   "mimetype": "text/x-python",
   "name": "python",
   "nbconvert_exporter": "python",
   "pygments_lexer": "ipython3",
   "version": "3.13.2"
  }
 },
 "nbformat": 4,
 "nbformat_minor": 5
}
