{
  "nbformat": 4,
  "nbformat_minor": 0,
  "metadata": {
    "colab": {
      "provenance": []
    },
    "kernelspec": {
      "name": "python3",
      "display_name": "Python 3"
    },
    "language_info": {
      "name": "python"
    }
  },
  "cells": [
    {
      "cell_type": "markdown",
      "source": [
        "Task 1: Filtering Data with Multiple Conditions\n",
        "Problem: Create a DataFrame with employee data and filter it to find employees who:\n",
        "\n",
        "Are between 25 and 40 years old (inclusive)\n",
        "Have a salary greater than $60,000\n",
        "Work in either \"Sales\" or \"Marketing\" departments\n",
        "\n"
      ],
      "metadata": {
        "id": "tm5uhMEs3BpM"
      }
    },
    {
      "cell_type": "code",
      "source": [
        "!pip install faker\n",
        "import datetime"
      ],
      "metadata": {
        "colab": {
          "base_uri": "https://localhost:8080/"
        },
        "id": "d7nHgyz44598",
        "outputId": "cbae706a-146a-473c-fecd-fd1b916eac7b"
      },
      "execution_count": null,
      "outputs": [
        {
          "output_type": "stream",
          "name": "stdout",
          "text": [
            "Requirement already satisfied: faker in /usr/local/lib/python3.12/dist-packages (37.11.0)\n",
            "Requirement already satisfied: tzdata in /usr/local/lib/python3.12/dist-packages (from faker) (2025.2)\n"
          ]
        }
      ]
    },
    {
      "cell_type": "code",
      "source": [
        "from faker import Faker\n",
        "import pandas as pd\n",
        "import numpy as np\n",
        "import random\n",
        "\n",
        "fake = Faker()\n",
        "\n",
        "def generate_employee_data(n_rows):\n",
        "    \"\"\"Generate realistic employee data\"\"\"\n",
        "    data = {\n",
        "        \"Employee_ID\": range(1, n_rows + 1),\n",
        "        \"Name\": [fake.name() for _ in range(n_rows)],\n",
        "        \"Age\": [random.randint(22, 65) for _ in range(n_rows)],\n",
        "        \"Salary\": [round(random.uniform(35000, 150000), 2) for _ in range(n_rows)],\n",
        "        \"City\": [fake.city() for _ in range(n_rows)],\n",
        "        \"Joining_Date\": [fake.date_between(start_date='-10y', end_date='today') for _ in range(n_rows)],\n",
        "        \"Email\": [fake.email() for _ in range(n_rows)],\n",
        "        \"Phone\": [fake.phone_number() for _ in range(n_rows)],\n",
        "        \"Department\": [random.choice(['Sales', 'IT', 'Marketing', 'HR', 'Finance']) for _ in range(n_rows)],\n",
        "        \"Job_Title\": [fake.job() for _ in range(n_rows)]\n",
        "    }\n",
        "    return pd.DataFrame(data)\n",
        "\n",
        "# Generate 100 employees\n",
        "df = generate_employee_data(100)\n",
        "print(df.head(10))\n",
        "print(f\"\\nDataFrame shape: {df.shape}\")\n",
        "\n",
        "# Save to CSV\n",
        "df.to_csv('employees_data.csv', index=False)"
      ],
      "metadata": {
        "colab": {
          "base_uri": "https://localhost:8080/"
        },
        "id": "oqn9WR174X2c",
        "outputId": "e8180612-0a3e-4a0f-cc3c-6391ef39f9f9"
      },
      "execution_count": null,
      "outputs": [
        {
          "output_type": "stream",
          "name": "stdout",
          "text": [
            "   Employee_ID                  Name  Age     Salary               City  \\\n",
            "0            1        Robert Santana   42   62513.27       Berrychester   \n",
            "1            2      Brooke Alexander   47   85585.35         Dariustown   \n",
            "2            3          Kevin Fowler   40  117057.66        Georgemouth   \n",
            "3            4           David Bruce   57   61966.76   Christopherville   \n",
            "4            5            James Webb   30   73622.47      South Brianna   \n",
            "5            6       Kenneth Andrews   34  137698.09  South Monicamouth   \n",
            "6            7  Elizabeth Spence DDS   48   44266.43      West Kimberly   \n",
            "7            8        Keith Jennings   64   52345.53   New Cynthiahaven   \n",
            "8            9          Amber Obrien   46   79049.06       Port Michael   \n",
            "9           10   Tanner Mitchell DDS   65   52572.61        East Curtis   \n",
            "\n",
            "  Joining_Date                          Email                   Phone  \\\n",
            "0   2016-08-05    katrinaanderson@example.net     (456)576-6182x51286   \n",
            "1   2021-10-30        guerraapril@example.com              5049786863   \n",
            "2   2024-01-12    fernandodonovan@example.org       (324)231-0690x331   \n",
            "3   2021-04-05           stacey84@example.org        690.530.6738x302   \n",
            "4   2019-01-07            james84@example.org   001-695-299-5342x8364   \n",
            "5   2016-08-09        christina18@example.net         +1-792-868-7056   \n",
            "6   2022-06-01  brittanycarpenter@example.org     (824)862-8733x42708   \n",
            "7   2018-11-14            megan90@example.org         +1-982-763-4351   \n",
            "8   2021-10-31    williamsdarlene@example.net            383-504-6990   \n",
            "9   2020-01-25            debra96@example.net  001-598-837-3540x33173   \n",
            "\n",
            "  Department                      Job_Title  \n",
            "0      Sales                Naval architect  \n",
            "1  Marketing  Scientist, research (medical)  \n",
            "2    Finance             Personal assistant  \n",
            "3         HR                  Social worker  \n",
            "4  Marketing       Public relations officer  \n",
            "5      Sales        Teacher, primary school  \n",
            "6    Finance               Fashion designer  \n",
            "7  Marketing                Publishing copy  \n",
            "8      Sales          Hydrographic surveyor  \n",
            "9         HR    Careers information officer  \n",
            "\n",
            "DataFrame shape: (100, 10)\n"
          ]
        }
      ]
    },
    {
      "cell_type": "code",
      "source": [
        "filtered_data = df[ ( df[\"Age\"] >= 25) & (df[\"Age\"] <= 40) & (df[\"Salary\"] >= 60000) & (df[\"Department\"].isin([\"Sales\", \"Marketing\"]))]\n",
        "\n",
        "print(filtered_data)"
      ],
      "metadata": {
        "id": "SS5qSfKU7WB0",
        "outputId": "d86354d5-9983-4211-be46-2d3e72d8ccc1",
        "colab": {
          "base_uri": "https://localhost:8080/"
        }
      },
      "execution_count": null,
      "outputs": [
        {
          "output_type": "stream",
          "name": "stdout",
          "text": [
            "    Employee_ID                Name  Age     Salary               City  \\\n",
            "4             5          James Webb   30   73622.47      South Brianna   \n",
            "5             6     Kenneth Andrews   34  137698.09  South Monicamouth   \n",
            "29           30        Susan Turner   35  119482.92          Paulmouth   \n",
            "45           46         Daniel Kane   36  111244.97         Mooreburgh   \n",
            "47           48        Scott Thomas   31   84290.47           Diazbury   \n",
            "63           64         Patricia Le   31   60785.55    South Waynebury   \n",
            "69           70         Parker Cain   33  131511.32           Westtown   \n",
            "75           76  Courtney Rodriguez   29   88478.91   Lake Zacharybury   \n",
            "94           95          Chad Scott   37  115177.20         Michaelton   \n",
            "\n",
            "   Joining_Date                      Email                  Phone Department  \\\n",
            "4    2019-01-07        james84@example.org  001-695-299-5342x8364  Marketing   \n",
            "5    2016-08-09    christina18@example.net        +1-792-868-7056      Sales   \n",
            "29   2016-06-23       marcia99@example.org      759-837-5265x4793      Sales   \n",
            "45   2023-03-01  roberthampton@example.com       001-778-281-9148  Marketing   \n",
            "47   2019-09-04      whitney78@example.com           595.296.2923  Marketing   \n",
            "63   2024-04-05       edelgado@example.com        +1-556-391-4630      Sales   \n",
            "69   2024-04-27        nancy04@example.net           980-623-8061  Marketing   \n",
            "75   2017-01-07   gregorychase@example.com       943.713.2912x127  Marketing   \n",
            "94   2022-03-25    hansenemily@example.com       911-252-6218x159  Marketing   \n",
            "\n",
            "                        Job_Title  \n",
            "4        Public relations officer  \n",
            "5         Teacher, primary school  \n",
            "29             Engineer, drilling  \n",
            "45                   Youth worker  \n",
            "47  Scientist, research (medical)  \n",
            "63               Paediatric nurse  \n",
            "69               Public librarian  \n",
            "75                 Water engineer  \n",
            "94                     Contractor  \n"
          ]
        }
      ]
    },
    {
      "cell_type": "code",
      "source": [
        "select_specific = df.loc[2:4, [\"Name\", \"Age\", \"Salary\"]]\n",
        "\n",
        "print(select_specific)"
      ],
      "metadata": {
        "id": "aEakkdzG-4ar",
        "outputId": "d21de23e-63b2-4eb4-fe42-5f9a6b5cd180",
        "colab": {
          "base_uri": "https://localhost:8080/"
        }
      },
      "execution_count": null,
      "outputs": [
        {
          "output_type": "stream",
          "name": "stdout",
          "text": [
            "           Name  Age     Salary\n",
            "2  Kevin Fowler   40  117057.66\n",
            "3   David Bruce   57   61966.76\n",
            "4    James Webb   30   73622.47\n"
          ]
        }
      ]
    },
    {
      "cell_type": "code",
      "source": [
        "select_specific = df.loc[2:4, [\"Name\", \"Age\", \"Salary\"]]\n",
        "\n",
        "print(select_specific)"
      ],
      "metadata": {
        "id": "g3GPDA4n_6Yz",
        "colab": {
          "base_uri": "https://localhost:8080/"
        },
        "outputId": "41d31fe6-f00f-445d-dbe7-60058fcbb389"
      },
      "execution_count": null,
      "outputs": [
        {
          "output_type": "stream",
          "name": "stdout",
          "text": [
            "           Name  Age     Salary\n",
            "2  Kevin Fowler   40  117057.66\n",
            "3   David Bruce   57   61966.76\n",
            "4    James Webb   30   73622.47\n"
          ]
        }
      ]
    },
    {
      "cell_type": "code",
      "source": [
        "select_col = df.iloc[0:3, 0:2]\n",
        "\n",
        "filter_first = df[(df['Age'] >30 )]\n",
        "\n",
        "finally_filtered = filter_first.loc[:, ['Name', 'Department']]\n",
        "\n",
        "print(finally_filtered)"
      ],
      "metadata": {
        "colab": {
          "base_uri": "https://localhost:8080/"
        },
        "id": "_5TXBZobBmGW",
        "outputId": "b7f5aabe-6953-4f9f-e569-58169c355dc7"
      },
      "execution_count": null,
      "outputs": [
        {
          "output_type": "stream",
          "name": "stdout",
          "text": [
            "                Name Department\n",
            "0     Robert Santana      Sales\n",
            "1   Brooke Alexander  Marketing\n",
            "2       Kevin Fowler    Finance\n",
            "3        David Bruce         HR\n",
            "5    Kenneth Andrews      Sales\n",
            "..               ...        ...\n",
            "95      Adam Burgess    Finance\n",
            "96     James Padilla    Finance\n",
            "97      Sandra Drake    Finance\n",
            "98    Scott Williams  Marketing\n",
            "99     Thomas Atkins      Sales\n",
            "\n",
            "[88 rows x 2 columns]\n"
          ]
        }
      ]
    },
    {
      "cell_type": "code",
      "source": [
        "missing_values = df.isnull().sum()\n",
        "\n",
        "\n",
        "mean_salary = df[\"Salary\"].mean()\n",
        "\n",
        "df[\"Salary\"].fillna(mean_salary, inplace=True)\n",
        "\n",
        "df[\"Department\"].fillna(\"Unknown\", inplace=True)\n",
        "\n",
        "df.dropna(subset=[\"Age\"], inplace=True)\n",
        "\n",
        "new_df = df.dropna()\n",
        "\n",
        "print(new_df)"
      ],
      "metadata": {
        "colab": {
          "base_uri": "https://localhost:8080/"
        },
        "id": "cgMIvqw4CYgp",
        "outputId": "0a8ea9ad-8fe8-4bb4-bb5a-6f8cce0ec2ee"
      },
      "execution_count": null,
      "outputs": [
        {
          "output_type": "stream",
          "name": "stdout",
          "text": [
            "    Employee_ID              Name  Age     Salary              City  \\\n",
            "0             1    Robert Santana   42   62513.27      Berrychester   \n",
            "1             2  Brooke Alexander   47   85585.35        Dariustown   \n",
            "2             3      Kevin Fowler   40  117057.66       Georgemouth   \n",
            "3             4       David Bruce   57   61966.76  Christopherville   \n",
            "4             5        James Webb   30   73622.47     South Brianna   \n",
            "..          ...               ...  ...        ...               ...   \n",
            "95           96      Adam Burgess   62   69682.01        Joshuastad   \n",
            "96           97     James Padilla   39  113689.79      Prestonmouth   \n",
            "97           98      Sandra Drake   55  127635.72       Morganburgh   \n",
            "98           99    Scott Williams   53  126566.13          Holtstad   \n",
            "99          100     Thomas Atkins   62  100082.24     Lauriechester   \n",
            "\n",
            "   Joining_Date                        Email                  Phone  \\\n",
            "0    2016-08-05  katrinaanderson@example.net    (456)576-6182x51286   \n",
            "1    2021-10-30      guerraapril@example.com             5049786863   \n",
            "2    2024-01-12  fernandodonovan@example.org      (324)231-0690x331   \n",
            "3    2021-04-05         stacey84@example.org       690.530.6738x302   \n",
            "4    2019-01-07          james84@example.org  001-695-299-5342x8364   \n",
            "..          ...                          ...                    ...   \n",
            "95   2020-04-21       fosterlisa@example.net    (629)662-0153x36884   \n",
            "96   2022-08-10     bethwilliams@example.com           710.269.8720   \n",
            "97   2019-04-02      weaverbrian@example.org    (614)897-3103x24171   \n",
            "98   2024-08-02         ajohnson@example.org      674.918.6256x5270   \n",
            "99   2023-08-11        katiegood@example.net       543.249.0211x586   \n",
            "\n",
            "   Department                      Job_Title  \n",
            "0       Sales                Naval architect  \n",
            "1   Marketing  Scientist, research (medical)  \n",
            "2     Finance             Personal assistant  \n",
            "3          HR                  Social worker  \n",
            "4   Marketing       Public relations officer  \n",
            "..        ...                            ...  \n",
            "95    Finance                    Hydrologist  \n",
            "96    Finance              Probation officer  \n",
            "97    Finance          IT sales professional  \n",
            "98  Marketing     Geophysical data processor  \n",
            "99      Sales         Pension scheme manager  \n",
            "\n",
            "[100 rows x 10 columns]\n"
          ]
        },
        {
          "output_type": "stream",
          "name": "stderr",
          "text": [
            "/tmp/ipython-input-1173957576.py:6: FutureWarning: A value is trying to be set on a copy of a DataFrame or Series through chained assignment using an inplace method.\n",
            "The behavior will change in pandas 3.0. This inplace method will never work because the intermediate object on which we are setting values always behaves as a copy.\n",
            "\n",
            "For example, when doing 'df[col].method(value, inplace=True)', try using 'df.method({col: value}, inplace=True)' or df[col] = df[col].method(value) instead, to perform the operation inplace on the original object.\n",
            "\n",
            "\n",
            "  df[\"Salary\"].fillna(mean_salary, inplace=True)\n",
            "/tmp/ipython-input-1173957576.py:8: FutureWarning: A value is trying to be set on a copy of a DataFrame or Series through chained assignment using an inplace method.\n",
            "The behavior will change in pandas 3.0. This inplace method will never work because the intermediate object on which we are setting values always behaves as a copy.\n",
            "\n",
            "For example, when doing 'df[col].method(value, inplace=True)', try using 'df.method({col: value}, inplace=True)' or df[col] = df[col].method(value) instead, to perform the operation inplace on the original object.\n",
            "\n",
            "\n",
            "  df[\"Department\"].fillna(\"Unknown\", inplace=True)\n"
          ]
        }
      ]
    },
    {
      "cell_type": "code",
      "source": [
        "from faker import Faker\n",
        "import pandas as pd\n",
        "import numpy as np\n",
        "import random\n",
        "from datetime import datetime\n",
        "\n",
        "fake = Faker()\n",
        "Faker.seed(42)\n",
        "random.seed(42)\n",
        "\n",
        "def generate_student_data(n_students):\n",
        "    majors = ['Computer Science', 'Business', 'Engineering', 'Psychology',\n",
        "              'Biology', 'Mathematics', 'English', 'History']\n",
        "\n",
        "    data = {\n",
        "        \"Student_ID\": [f\"STU{str(i).zfill(6)}\" for i in range(1, n_students + 1)],\n",
        "        \"Name\": [fake.name() for _ in range(n_students)],\n",
        "        \"Email\": [fake.email() for _ in range(n_students)],\n",
        "        \"Date_of_Birth\": [fake.date_of_birth(minimum_age=18, maximum_age=25) for _ in range(n_students)],\n",
        "        \"Enrollment_Date\": [fake.date_between(start_date='-4y', end_date='today') for _ in range(n_students)],\n",
        "        \"Major\": [random.choice(majors) for _ in range(n_students)],\n",
        "        \"GPA\": [round(random.uniform(2.0, 4.0), 2) for _ in range(n_students)],\n",
        "        \"Credits_Completed\": [random.randint(0, 150) for _ in range(n_students)],\n",
        "        \"Scholarship\": [random.choice([True, False]) for _ in range(n_students)]\n",
        "    }\n",
        "\n",
        "    return pd.DataFrame(data)\n",
        "\n",
        "df = generate_student_data(100)\n",
        "print(\"=\" * 80)\n",
        "print(\"TASK 4: STUDENT DATA TRANSFORMATION\")\n",
        "print(\"=\" * 80)"
      ],
      "metadata": {
        "colab": {
          "base_uri": "https://localhost:8080/"
        },
        "id": "aIFyHJZ7Doxr",
        "outputId": "84057b43-8f07-4d0a-ebee-5c398d741eca"
      },
      "execution_count": null,
      "outputs": [
        {
          "output_type": "stream",
          "name": "stdout",
          "text": [
            "================================================================================\n",
            "TASK 4: STUDENT DATA TRANSFORMATION\n",
            "================================================================================\n"
          ]
        }
      ]
    },
    {
      "cell_type": "code",
      "source": [
        "deans_list = df[(df[\"GPA\"] >= 3.7) & (df[\"Credits_Completed\"] >= 60)]"
      ],
      "metadata": {
        "id": "hH1Oxk38GwtU"
      },
      "execution_count": null,
      "outputs": []
    },
    {
      "cell_type": "code",
      "source": [
        "statistics = df.groupby(\"Major\").agg({\n",
        "    \"GPA\": [\"mean\", \"max\", \"min\"],\n",
        "    \"Credits_Completed\": [\"mean\", \"max\", \"min\"],\n",
        "    \"Scholarship\": \"sum\"\n",
        "}).reset_index()"
      ],
      "metadata": {
        "id": "kjd91Pw0HDQK"
      },
      "execution_count": null,
      "outputs": []
    }
  ]
}