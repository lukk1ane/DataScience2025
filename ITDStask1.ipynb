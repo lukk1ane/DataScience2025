{
  "nbformat": 4,
  "nbformat_minor": 0,
  "metadata": {
    "colab": {
      "provenance": [],
      "authorship_tag": "ABX9TyNFOXgIZKXswcb9fOErMQbF",
      "include_colab_link": true
    },
    "kernelspec": {
      "name": "python3",
      "display_name": "Python 3"
    },
    "language_info": {
      "name": "python"
    }
  },
  "cells": [
    {
      "cell_type": "markdown",
      "metadata": {
        "id": "view-in-github",
        "colab_type": "text"
      },
      "source": [
        "<a href=\"https://colab.research.google.com/github/lukk1ane/DataScience2025/blob/giorgi_kezevadze/ITDStask1.ipynb\" target=\"_parent\"><img src=\"https://colab.research.google.com/assets/colab-badge.svg\" alt=\"Open In Colab\"/></a>"
      ]
    },
    {
      "cell_type": "code",
      "execution_count": null,
      "metadata": {
        "id": "kGVC_VV-FAwJ"
      },
      "outputs": [],
      "source": []
    },
    {
      "cell_type": "markdown",
      "source": [
        "Task 1"
      ],
      "metadata": {
        "id": "Zl1uNAA0Hjum"
      }
    },
    {
      "cell_type": "code",
      "source": [
        "age = 25\n",
        "name = \"giorgi\""
      ],
      "metadata": {
        "id": "K0uMBCSSHk5K"
      },
      "execution_count": null,
      "outputs": []
    },
    {
      "cell_type": "markdown",
      "source": [
        "Task 2"
      ],
      "metadata": {
        "id": "lPOW_DHiHo0D"
      }
    },
    {
      "cell_type": "code",
      "source": [
        "length  = 10.5\n",
        "int_length = int(length)\n",
        "print(length)\n",
        "print(int_length)"
      ],
      "metadata": {
        "colab": {
          "base_uri": "https://localhost:8080/"
        },
        "id": "5o7OY6NDHp3k",
        "outputId": "4212ffb5-3e82-4729-ae4a-051de9d9cb38"
      },
      "execution_count": 2,
      "outputs": [
        {
          "output_type": "stream",
          "name": "stdout",
          "text": [
            "10.5\n",
            "10\n"
          ]
        }
      ]
    },
    {
      "cell_type": "markdown",
      "source": [
        "Task 3"
      ],
      "metadata": {
        "id": "D0VCiX0QHzQz"
      }
    },
    {
      "cell_type": "code",
      "source": [
        "x,y,z = 5, 10.5, 'Hello'\n",
        "print('x :',x ,'y :',y ,'z :',z )"
      ],
      "metadata": {
        "colab": {
          "base_uri": "https://localhost:8080/"
        },
        "id": "Z_5u_UB_H0-I",
        "outputId": "51b889a9-c844-4d7e-d9af-69fa66d95db6"
      },
      "execution_count": 5,
      "outputs": [
        {
          "output_type": "stream",
          "name": "stdout",
          "text": [
            "x: 5 y: 10.5 z: Hello\n"
          ]
        }
      ]
    },
    {
      "cell_type": "markdown",
      "source": [
        "Task 4"
      ],
      "metadata": {
        "id": "q8u59fCgIh0f"
      }
    },
    {
      "cell_type": "code",
      "source": [
        "def greet(name):\n",
        "  print(\"Hi\", name)\n",
        "greet(\"Giorgi\")\n"
      ],
      "metadata": {
        "colab": {
          "base_uri": "https://localhost:8080/"
        },
        "id": "1yVvnpdgIip-",
        "outputId": "c2e1625c-15d0-4608-dbab-d5d46c9c4831"
      },
      "execution_count": 8,
      "outputs": [
        {
          "output_type": "stream",
          "name": "stdout",
          "text": [
            "Hi Giorgi\n"
          ]
        }
      ]
    },
    {
      "cell_type": "markdown",
      "source": [
        "Task 5"
      ],
      "metadata": {
        "id": "aBV9s-mLIwQa"
      }
    },
    {
      "cell_type": "code",
      "source": [
        "def is_even(num):\n",
        "  if num%2 == 0:\n",
        "    return True\n",
        "  else:\n",
        "    return False\n",
        "print(is_even(4))\n",
        "print(is_even(7))"
      ],
      "metadata": {
        "colab": {
          "base_uri": "https://localhost:8080/"
        },
        "id": "UtQbvlmpIxFl",
        "outputId": "0960aa62-5e60-4140-f735-13cd82a6c179"
      },
      "execution_count": 9,
      "outputs": [
        {
          "output_type": "stream",
          "name": "stdout",
          "text": [
            "True\n",
            "False\n"
          ]
        }
      ]
    },
    {
      "cell_type": "markdown",
      "source": [
        "Task 6"
      ],
      "metadata": {
        "id": "cRghQCUAJJfI"
      }
    },
    {
      "cell_type": "code",
      "source": [
        "fruits = [\"apple\",\"banana\",\"orange\"]\n",
        "fruit_colors = {\"apple\": \"red\",\"banana\" : \"yellow\", \"orange\" : \"orange\"}\n",
        "\n",
        "for fruit in fruits:\n",
        "  print(fruit_colors.get(fruit))"
      ],
      "metadata": {
        "colab": {
          "base_uri": "https://localhost:8080/"
        },
        "id": "kAszkQsAJKhd",
        "outputId": "6cc97e55-1480-4c6d-d934-de78454617ed"
      },
      "execution_count": 12,
      "outputs": [
        {
          "output_type": "stream",
          "name": "stdout",
          "text": [
            "red\n",
            "yellow\n",
            "orange\n"
          ]
        }
      ]
    },
    {
      "cell_type": "markdown",
      "source": [
        "Task 7"
      ],
      "metadata": {
        "id": "ljOmt338J1C-"
      }
    },
    {
      "cell_type": "code",
      "source": [
        "list = [i+1 for i in range(10)]\n",
        "print(list)"
      ],
      "metadata": {
        "colab": {
          "base_uri": "https://localhost:8080/"
        },
        "id": "opAtWXUoJ19I",
        "outputId": "2f924873-83ff-4e3a-d4d2-b7698cb8b365"
      },
      "execution_count": 15,
      "outputs": [
        {
          "output_type": "stream",
          "name": "stdout",
          "text": [
            "[1, 2, 3, 4, 5, 6, 7, 8, 9, 10]\n"
          ]
        }
      ]
    },
    {
      "cell_type": "markdown",
      "source": [
        "Task 8"
      ],
      "metadata": {
        "id": "jVQzc4BiKHuK"
      }
    },
    {
      "cell_type": "code",
      "source": [
        "for i in range(1,20):\n",
        "  if i%3 == 0:\n",
        "    print(i)\n",
        "\n"
      ],
      "metadata": {
        "colab": {
          "base_uri": "https://localhost:8080/"
        },
        "id": "x3BhOHqyKIrC",
        "outputId": "d4dc2d00-39e7-4148-f454-833f4c3cf628"
      },
      "execution_count": 23,
      "outputs": [
        {
          "output_type": "stream",
          "name": "stdout",
          "text": [
            "3\n",
            "6\n",
            "9\n",
            "12\n",
            "15\n",
            "18\n"
          ]
        }
      ]
    },
    {
      "cell_type": "markdown",
      "source": [
        "Task 9"
      ],
      "metadata": {
        "id": "bcc1OhHDLAOJ"
      }
    },
    {
      "cell_type": "code",
      "source": [
        "def fizz_buzz(n):\n",
        "  for i in range(1,n):\n",
        "    if i%3 == 0 and i%5 == 0:\n",
        "      print(\"FizzBuzz\")\n",
        "    elif i%3 == 0:\n",
        "      print(\"FIzz\")\n",
        "    elif i%5 == 0:\n",
        "      print(\"Buzz\")\n",
        "    else:\n",
        "      print(i)\n",
        "fizz_buzz(20)"
      ],
      "metadata": {
        "colab": {
          "base_uri": "https://localhost:8080/"
        },
        "id": "9dU2O-roLBC4",
        "outputId": "0017cecf-8c0c-4cf5-cdfc-14479085827d"
      },
      "execution_count": 25,
      "outputs": [
        {
          "output_type": "stream",
          "name": "stdout",
          "text": [
            "1\n",
            "2\n",
            "FIzz\n",
            "4\n",
            "Buzz\n",
            "FIzz\n",
            "7\n",
            "8\n",
            "FIzz\n",
            "Buzz\n",
            "11\n",
            "FIzz\n",
            "13\n",
            "14\n",
            "FizzBuzz\n",
            "16\n",
            "17\n",
            "FIzz\n",
            "19\n"
          ]
        }
      ]
    },
    {
      "cell_type": "markdown",
      "source": [
        "Task 10"
      ],
      "metadata": {
        "id": "bT1_7tywLkss"
      }
    },
    {
      "cell_type": "code",
      "source": [
        "def div(a,b):\n",
        "  try:\n",
        "    return a/b\n",
        "  except ZeroDivisionError:\n",
        "    return \"Error: Cannot divide by zero\"\n",
        "\n",
        "print(div(10,0))\n",
        "print(div(10,2))\n"
      ],
      "metadata": {
        "colab": {
          "base_uri": "https://localhost:8080/"
        },
        "id": "-vWj0M-7LlsP",
        "outputId": "470e9780-7d1f-407b-a45b-97c9b9d1b02d"
      },
      "execution_count": 29,
      "outputs": [
        {
          "output_type": "stream",
          "name": "stdout",
          "text": [
            "Error: Cannot divide by zero\n",
            "5.0\n"
          ]
        }
      ]
    },
    {
      "cell_type": "code",
      "source": [],
      "metadata": {
        "id": "P5rMW4LPMO_J"
      },
      "execution_count": null,
      "outputs": []
    }
  ]
}