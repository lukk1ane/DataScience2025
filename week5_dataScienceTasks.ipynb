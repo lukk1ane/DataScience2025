{
  "nbformat": 4,
  "nbformat_minor": 0,
  "metadata": {
    "colab": {
      "provenance": []
    },
    "kernelspec": {
      "name": "python3",
      "display_name": "Python 3"
    },
    "language_info": {
      "name": "python"
    }
  },
  "cells": [
    {
      "cell_type": "code",
      "execution_count": 42,
      "metadata": {
        "id": "lIZsXXNgudGU"
      },
      "outputs": [],
      "source": [
        "import pandas as pd"
      ]
    },
    {
      "cell_type": "markdown",
      "source": [
        "# Task 1\n"
      ],
      "metadata": {
        "id": "Z5vKbi69w9hk"
      }
    },
    {
      "cell_type": "code",
      "source": [
        "data1 = [10, 20, 30, 40, 50]\n",
        "labels1 = ['a', 'b', 'c', 'd', 'e']\n",
        "\n",
        "series = pd.Series(data1, index=labels1)\n",
        "print(series)"
      ],
      "metadata": {
        "colab": {
          "base_uri": "https://localhost:8080/"
        },
        "id": "FA1Ebk_-xo2s",
        "outputId": "6f2183c5-0c9c-4476-884f-b4cd561152d4"
      },
      "execution_count": 43,
      "outputs": [
        {
          "output_type": "stream",
          "name": "stdout",
          "text": [
            "a    10\n",
            "b    20\n",
            "c    30\n",
            "d    40\n",
            "e    50\n",
            "dtype: int64\n"
          ]
        }
      ]
    },
    {
      "cell_type": "markdown",
      "source": [
        "# Task 2"
      ],
      "metadata": {
        "id": "yeFm8JMoxB2C"
      }
    },
    {
      "cell_type": "code",
      "source": [
        "data2 = [100, 200, 300, 400, 500]\n",
        "series2 = pd.Series(data2)\n",
        "\n",
        "print(series2[2])\n"
      ],
      "metadata": {
        "colab": {
          "base_uri": "https://localhost:8080/"
        },
        "id": "8vR0el6Ux322",
        "outputId": "37f4d8e6-7dfb-45bc-c490-cbe8b0a86b09"
      },
      "execution_count": 44,
      "outputs": [
        {
          "output_type": "stream",
          "name": "stdout",
          "text": [
            "300\n"
          ]
        }
      ]
    },
    {
      "cell_type": "markdown",
      "source": [
        "# Task 3"
      ],
      "metadata": {
        "id": "5PyjnBjzxBx6"
      }
    },
    {
      "cell_type": "code",
      "source": [
        "series3 = pd.Series([5, 10, 15, 20], index = ['w', 'x', 'y', 'z'])\n",
        "series4 = pd.Series([2, 4, 6, 8], index = ['w', 'x', 'y', 'p'])\n",
        "\n",
        "seriesadd = series3.add(series4, fill_value=0)\n",
        "seriessub = series3.sub(series4, fill_value=0)\n",
        "seriesmul = series3.mul(series4, fill_value=1)\n",
        "seriesdiv = series3.div(series4, fill_value=1)\n",
        "print(seriesadd)\n",
        "print(seriessub)\n",
        "print(seriesmul)\n",
        "print(seriesdiv)\n"
      ],
      "metadata": {
        "colab": {
          "base_uri": "https://localhost:8080/"
        },
        "id": "MDX2mlj10vbB",
        "outputId": "f924763c-5fbc-4d2b-f485-352c873f44a5"
      },
      "execution_count": 45,
      "outputs": [
        {
          "output_type": "stream",
          "name": "stdout",
          "text": [
            "p     8.0\n",
            "w     7.0\n",
            "x    14.0\n",
            "y    21.0\n",
            "z    20.0\n",
            "dtype: float64\n",
            "p    -8.0\n",
            "w     3.0\n",
            "x     6.0\n",
            "y     9.0\n",
            "z    20.0\n",
            "dtype: float64\n",
            "p     8.0\n",
            "w    10.0\n",
            "x    40.0\n",
            "y    90.0\n",
            "z    20.0\n",
            "dtype: float64\n",
            "p     0.125\n",
            "w     2.500\n",
            "x     2.500\n",
            "y     2.500\n",
            "z    20.000\n",
            "dtype: float64\n"
          ]
        }
      ]
    },
    {
      "cell_type": "markdown",
      "source": [
        "# Task 4"
      ],
      "metadata": {
        "id": "b89ww7GQxBvo"
      }
    },
    {
      "cell_type": "code",
      "source": [
        "data3 = [1, 2, 3, 4, 5, 6, 7, 8, 9, 10]\n",
        "labels3 = ['a', 'b', 'c', 'd', 'e', 'f', 'g', 'h', 'i', 'j']\n",
        "\n",
        "df = pd.DataFrame(data3, index=labels3, columns=['Numbers'])\n",
        "\n",
        "#df.head() #displayed first five\n",
        "#df.head(3) #displayed first 3\n",
        "#df.tail(2) #displayed last two\n",
        "#df.tail(-2) #everything other than first 2\n",
        "#df.head(-2) #everything other than last 2"
      ],
      "metadata": {
        "id": "hrVj81rN2Glg"
      },
      "execution_count": 46,
      "outputs": []
    },
    {
      "cell_type": "markdown",
      "source": [
        "# Task 5"
      ],
      "metadata": {
        "id": "DbNkh74qxBsu"
      }
    },
    {
      "cell_type": "code",
      "source": [
        "num_series = pd.Series([15, 22, 15, 30, 22, 45, 30, 15])\n",
        "\n",
        "num_series.unique()\n",
        "unique_count = num_series.nunique()\n",
        "print(unique_count)\n",
        "print(num_series.value_counts())\n"
      ],
      "metadata": {
        "colab": {
          "base_uri": "https://localhost:8080/"
        },
        "id": "yP8lf91-3Q-q",
        "outputId": "a83507f9-0ed9-4bc7-de83-127b4b91cecf"
      },
      "execution_count": 47,
      "outputs": [
        {
          "output_type": "stream",
          "name": "stdout",
          "text": [
            "4\n",
            "15    3\n",
            "22    2\n",
            "30    2\n",
            "45    1\n",
            "Name: count, dtype: int64\n"
          ]
        }
      ]
    },
    {
      "cell_type": "markdown",
      "source": [
        "# Task 6"
      ],
      "metadata": {
        "id": "0vzGpKQTxBnW"
      }
    },
    {
      "cell_type": "code",
      "source": [
        "items = ['Laptop', 'Mouse', 'Keyboard', 'Monitor', 'Headphones',\n",
        "         'USB Cable', 'Webcam', 'Speaker', 'Tablet', 'Smartphone']\n",
        "costs = [1200, 25, 80, 300, 150, 15, 90, 200, 600, 800]\n",
        "\n",
        "item_cost = pd.DataFrame(\n",
        "    {\n",
        "        'Item' : items,\n",
        "        'Cost' : costs\n",
        "    }\n",
        ")\n",
        "print(item_cost)\n",
        "print(\"=\" * 60 )\n",
        "\n",
        "item_cost['Tax'] = item_cost['Cost'] * 0.08\n",
        "item_cost['Total'] = item_cost['Cost'] + item_cost['Tax']\n",
        "print(item_cost)\n",
        "print(\"=\" * 60 )\n",
        "print(item_cost[item_cost['Total'] > 50])"
      ],
      "metadata": {
        "colab": {
          "base_uri": "https://localhost:8080/"
        },
        "id": "blqh2gOO3x7G",
        "outputId": "3157ac18-e38c-4ccd-85db-8a1c18d9ff32"
      },
      "execution_count": 48,
      "outputs": [
        {
          "output_type": "stream",
          "name": "stdout",
          "text": [
            "         Item  Cost\n",
            "0      Laptop  1200\n",
            "1       Mouse    25\n",
            "2    Keyboard    80\n",
            "3     Monitor   300\n",
            "4  Headphones   150\n",
            "5   USB Cable    15\n",
            "6      Webcam    90\n",
            "7     Speaker   200\n",
            "8      Tablet   600\n",
            "9  Smartphone   800\n",
            "============================================================\n",
            "         Item  Cost   Tax   Total\n",
            "0      Laptop  1200  96.0  1296.0\n",
            "1       Mouse    25   2.0    27.0\n",
            "2    Keyboard    80   6.4    86.4\n",
            "3     Monitor   300  24.0   324.0\n",
            "4  Headphones   150  12.0   162.0\n",
            "5   USB Cable    15   1.2    16.2\n",
            "6      Webcam    90   7.2    97.2\n",
            "7     Speaker   200  16.0   216.0\n",
            "8      Tablet   600  48.0   648.0\n",
            "9  Smartphone   800  64.0   864.0\n",
            "============================================================\n",
            "         Item  Cost   Tax   Total\n",
            "0      Laptop  1200  96.0  1296.0\n",
            "2    Keyboard    80   6.4    86.4\n",
            "3     Monitor   300  24.0   324.0\n",
            "4  Headphones   150  12.0   162.0\n",
            "6      Webcam    90   7.2    97.2\n",
            "7     Speaker   200  16.0   216.0\n",
            "8      Tablet   600  48.0   648.0\n",
            "9  Smartphone   800  64.0   864.0\n"
          ]
        }
      ]
    },
    {
      "cell_type": "markdown",
      "source": [
        "# Task 7"
      ],
      "metadata": {
        "id": "YH1RnNulxBem"
      }
    },
    {
      "cell_type": "code",
      "source": [
        "products = ['iPhone 15', 'Samsung TV', 'Nike Shoes', None, 'Sony Headphones',\n",
        "            None, 'Levi Jeans', None, 'Adidas Hoodie', 'iPad Air']# generatedd by Ai\n",
        "\n",
        "categories = ['Electronics', 'Electronics', 'Fashion', None, 'Electronics',\n",
        "              'Home Appliances', 'Fashion', None, 'Fashion', 'Electronics']# generatedd by Ai\n",
        "\n",
        "prices = [999, 450, 120, 850, None, 80, 60, None, 45, 750]# generatedd by Ai\n",
        "\n",
        "stock = [25, 15, 50, None, 40, None, 100, 18, None, 35] # generatedd by Ai\n",
        "\n",
        "product_info = pd.DataFrame({\n",
        "    'Product' : products,\n",
        "    'Category' : categories,\n",
        "    'Price' : prices,\n",
        "    'Stock' : stock\n",
        "})\n",
        "\n",
        "print(product_info)\n",
        "print(\"=\" * 60 )\n",
        "print(product_info.isnull())\n",
        "print(\"=\" * 60 )\n",
        "print(product_info.notnull())\n",
        "print(\"=\" * 60 )\n",
        "print(product_info['Category'].value_counts())\n",
        "print(\"=\" * 60 )\n",
        "print(product_info['Price'].nlargest(3))\n",
        "print(\"=\" * 60 )\n",
        "print(product_info['Stock'].nsmallest(2))\n",
        "print(\"=\" * 60 )\n",
        "print(product_info.shape)\n",
        "print(product_info.ndim)"
      ],
      "metadata": {
        "colab": {
          "base_uri": "https://localhost:8080/"
        },
        "id": "4oaGgdMw5Nac",
        "outputId": "021fb43b-e0a7-46bb-af20-17d3f198a455"
      },
      "execution_count": 56,
      "outputs": [
        {
          "output_type": "stream",
          "name": "stdout",
          "text": [
            "           Product         Category  Price  Stock\n",
            "0        iPhone 15      Electronics  999.0   25.0\n",
            "1       Samsung TV      Electronics  450.0   15.0\n",
            "2       Nike Shoes          Fashion  120.0   50.0\n",
            "3             None             None  850.0    NaN\n",
            "4  Sony Headphones      Electronics    NaN   40.0\n",
            "5             None  Home Appliances   80.0    NaN\n",
            "6       Levi Jeans          Fashion   60.0  100.0\n",
            "7             None             None    NaN   18.0\n",
            "8    Adidas Hoodie          Fashion   45.0    NaN\n",
            "9         iPad Air      Electronics  750.0   35.0\n",
            "============================================================\n",
            "   Product  Category  Price  Stock\n",
            "0    False     False  False  False\n",
            "1    False     False  False  False\n",
            "2    False     False  False  False\n",
            "3     True      True  False   True\n",
            "4    False     False   True  False\n",
            "5     True     False  False   True\n",
            "6    False     False  False  False\n",
            "7     True      True   True  False\n",
            "8    False     False  False   True\n",
            "9    False     False  False  False\n",
            "============================================================\n",
            "   Product  Category  Price  Stock\n",
            "0     True      True   True   True\n",
            "1     True      True   True   True\n",
            "2     True      True   True   True\n",
            "3    False     False   True  False\n",
            "4     True      True  False   True\n",
            "5    False      True   True  False\n",
            "6     True      True   True   True\n",
            "7    False     False  False   True\n",
            "8     True      True   True  False\n",
            "9     True      True   True   True\n",
            "============================================================\n",
            "Category\n",
            "Electronics        4\n",
            "Fashion            3\n",
            "Home Appliances    1\n",
            "Name: count, dtype: int64\n",
            "============================================================\n",
            "0    999.0\n",
            "3    850.0\n",
            "9    750.0\n",
            "Name: Price, dtype: float64\n",
            "============================================================\n",
            "1    15.0\n",
            "7    18.0\n",
            "Name: Stock, dtype: float64\n",
            "============================================================\n",
            "(10, 4)\n",
            "2\n"
          ]
        }
      ]
    },
    {
      "cell_type": "markdown",
      "source": [
        "# Task 8"
      ],
      "metadata": {
        "id": "BLgFB3hkxG8B"
      }
    },
    {
      "cell_type": "code",
      "source": [
        "students = ['Alice', 'Bob', 'Charlie', 'Alice', 'David', 'Emma', 'Bob', 'Frank',\n",
        "            'Grace', 'Henry', 'Emma', 'Ivy', 'Charlie', 'Jack', 'Alice',\n",
        "            'Karen', 'Bob', 'Liam', 'Emma', 'Mia']\n",
        "subjects = ['Math', 'Science', 'English', 'History', 'Math', 'Science', 'English',\n",
        "            'History', 'Math', 'Science', 'English', 'History', 'Math', 'Science',\n",
        "            'English', 'History', 'Math', 'Science', 'English', 'History']\n",
        "scores = [85, 92, 78, 88, 90, 87, 79, 84, 91, 86, 82, 89, 77, 93, 83, 81, 88, 94, 80, 87]\n",
        "attendance = [90, 95, 85, 92, 88, 96, 82, 89, 93, 87, 91, 84, 86, 97, 83, 90, 94, 98, 81, 92]\n",
        "\n",
        "student_scores = pd.DataFrame({\n",
        "    'Student' : students,\n",
        "    'Subject' : subjects,\n",
        "    'Score' : scores,\n",
        "    'Attendance' : attendance\n",
        "})\n",
        "\n",
        "print(student_scores.duplicated(subset=['Student']))\n",
        "\n",
        "student_scores_no_duplicates = student_scores.drop_duplicates(subset=['Student'], keep='first')\n",
        "\n",
        "student_scores_indexed = student_scores.set_index('Student')\n",
        "\n",
        "print(student_scores_indexed.loc['Alice'])\n",
        "\n",
        "print(student_scores_indexed.iloc[:3])\n",
        "\n",
        "print(student_scores.query('Score > 80 and Attendance > 85'))\n",
        "\n",
        "print(student_scores[student_scores['Score'].between(70, 90)])\n",
        "\n"
      ],
      "metadata": {
        "colab": {
          "base_uri": "https://localhost:8080/"
        },
        "id": "Yq0B8i9Hvp4Y",
        "outputId": "1f1b4392-69f0-4f34-89a7-5d9f044d3d7a"
      },
      "execution_count": 62,
      "outputs": [
        {
          "output_type": "stream",
          "name": "stdout",
          "text": [
            "0     False\n",
            "1     False\n",
            "2     False\n",
            "3      True\n",
            "4     False\n",
            "5     False\n",
            "6      True\n",
            "7     False\n",
            "8     False\n",
            "9     False\n",
            "10     True\n",
            "11    False\n",
            "12     True\n",
            "13    False\n",
            "14     True\n",
            "15    False\n",
            "16     True\n",
            "17    False\n",
            "18     True\n",
            "19    False\n",
            "dtype: bool\n",
            "         Subject  Score  Attendance\n",
            "Student                            \n",
            "Alice       Math     85          90\n",
            "Alice    History     88          92\n",
            "Alice    English     83          83\n",
            "         Subject  Score  Attendance\n",
            "Student                            \n",
            "Alice       Math     85          90\n",
            "Bob      Science     92          95\n",
            "Charlie  English     78          85\n",
            "   Student  Subject  Score  Attendance\n",
            "0    Alice     Math     85          90\n",
            "1      Bob  Science     92          95\n",
            "3    Alice  History     88          92\n",
            "4    David     Math     90          88\n",
            "5     Emma  Science     87          96\n",
            "7    Frank  History     84          89\n",
            "8    Grace     Math     91          93\n",
            "9    Henry  Science     86          87\n",
            "10    Emma  English     82          91\n",
            "13    Jack  Science     93          97\n",
            "15   Karen  History     81          90\n",
            "16     Bob     Math     88          94\n",
            "17    Liam  Science     94          98\n",
            "19     Mia  History     87          92\n",
            "    Student  Subject  Score  Attendance\n",
            "0     Alice     Math     85          90\n",
            "2   Charlie  English     78          85\n",
            "3     Alice  History     88          92\n",
            "4     David     Math     90          88\n",
            "5      Emma  Science     87          96\n",
            "6       Bob  English     79          82\n",
            "7     Frank  History     84          89\n",
            "9     Henry  Science     86          87\n",
            "10     Emma  English     82          91\n",
            "11      Ivy  History     89          84\n",
            "12  Charlie     Math     77          86\n",
            "14    Alice  English     83          83\n",
            "15    Karen  History     81          90\n",
            "16      Bob     Math     88          94\n",
            "18     Emma  English     80          81\n",
            "19      Mia  History     87          92\n"
          ]
        }
      ]
    }
  ]
}