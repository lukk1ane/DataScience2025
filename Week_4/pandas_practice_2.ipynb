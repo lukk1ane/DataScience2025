{
 "cells": [
  {
   "cell_type": "markdown",
   "id": "1f8eb9d7",
   "metadata": {},
   "source": [
    "# Task 1"
   ]
  },
  {
   "cell_type": "code",
   "execution_count": 28,
   "id": "5f53e888",
   "metadata": {},
   "outputs": [
    {
     "name": "stdout",
     "output_type": "stream",
     "text": [
      "                 city                      job      company department  count\n",
      "0           East Jill  Chief Financial Officer  Hoffman Ltd    Finance     31\n",
      "1           East Jill  Chief Financial Officer  Hoffman Ltd         HR     26\n",
      "2           East Jill  Chief Financial Officer  Hoffman Ltd         IT     34\n",
      "3           East Jill  Chief Financial Officer  Hoffman Ltd  Marketing     33\n",
      "4           East Jill  Chief Financial Officer  Hoffman Ltd      Sales     40\n",
      "..                ...                      ...          ...        ...    ...\n",
      "295  North Judithbury             Town planner    Wolfe LLC    Finance     30\n",
      "296  North Judithbury             Town planner    Wolfe LLC         HR     34\n",
      "297  North Judithbury             Town planner    Wolfe LLC         IT     28\n",
      "298  North Judithbury             Town planner    Wolfe LLC  Marketing     33\n",
      "299  North Judithbury             Town planner    Wolfe LLC      Sales     38\n",
      "\n",
      "[300 rows x 5 columns]\n"
     ]
    }
   ],
   "source": [
    "import numpy as np\n",
    "import pandas as pd\n",
    "from faker import Faker\n",
    "import random\n",
    "\n",
    "fake = Faker()\n",
    "\n",
    "random.seed(42)\n",
    "Faker.seed(42)  \n",
    "\n",
    "\n",
    "cities = [fake.city() for _ in range(3)]\n",
    "jobs = [fake.job() for _ in range(5)]\n",
    "companies = [fake.company() for _ in range(4)]\n",
    "\n",
    "df = pd.DataFrame({\n",
    "    'city': [random.choice(cities) for _ in range(10000)],\n",
    "    'job': [random.choice(jobs) for _ in range(10000)],\n",
    "    'company': [random.choice(companies) for _ in range(10000)],\n",
    "    'department': [random.choice(['Sales', 'HR', 'IT', 'Finance', 'Marketing']) for _ in range(10000)]\n",
    "})\n",
    "\n",
    "combo_counts = df.value_counts(sort = False) \n",
    "popular = combo_counts[combo_counts >= 10].reset_index(name='count')\n",
    "\n",
    "print(popular)"
   ]
  },
  {
   "cell_type": "markdown",
   "id": "a9664304",
   "metadata": {},
   "source": [
    "# Task 2"
   ]
  },
  {
   "cell_type": "code",
   "execution_count": null,
   "id": "a0b01196",
   "metadata": {},
   "outputs": [
    {
     "name": "stdout",
     "output_type": "stream",
     "text": [
      "        index  missing_count\n",
      "1       email            524\n",
      "4  department            520\n",
      "2        city            511\n",
      "3         age            507\n",
      "0        name            504\n",
      "========================================\n",
      "        index  missing_count\n",
      "1       email            524\n",
      "4  department            520\n",
      "2        city            511\n",
      "========================================\n",
      "                name                         email               city   age  \\\n",
      "57       David Chang            sreyes@example.com     East Elizabeth   NaN   \n",
      "63               NaN     allenkristine@example.com           Laneland  62.0   \n",
      "81               NaN  jonathanferguson@example.com           Johntown   NaN   \n",
      "82   Charles Stevens     kristinmedina@example.com       New Lorraine   NaN   \n",
      "87               NaN     huertamichael@example.com  South Michaeltown   NaN   \n",
      "..               ...                           ...                ...   ...   \n",
      "966              NaN           james88@example.org        West Sandra   NaN   \n",
      "976      John Ibarra           zgeorge@example.com        East Alexis   NaN   \n",
      "986              NaN         william00@example.org        Valdezshire  32.0   \n",
      "987   William Rivers      georgewarren@example.org     Port Carlafurt  39.0   \n",
      "992    Kevin Carroll           corey79@example.org   East Heathertown   NaN   \n",
      "\n",
      "    department  \n",
      "57          HR  \n",
      "63          IT  \n",
      "81       Sales  \n",
      "82          IT  \n",
      "87          IT  \n",
      "..         ...  \n",
      "966    Finance  \n",
      "976    Finance  \n",
      "986    Finance  \n",
      "987         HR  \n",
      "992      Sales  \n",
      "\n",
      "[124 rows x 5 columns]\n"
     ]
    }
   ],
   "source": [
    "def maybe_missing(value, prob=0.5):\n",
    "    \"\"\"Return the value or np.nan with probability `prob`.\"\"\"\n",
    "    return value if random.random() > prob else np.nan\n",
    "\n",
    "n = 1000\n",
    "\n",
    "df = pd.DataFrame({\n",
    "    'name': [maybe_missing(fake.name()) for _ in range(n)],\n",
    "    'email': [maybe_missing(fake.email()) for _ in range(n)],\n",
    "    'city': [maybe_missing(fake.city()) for _ in range(n)],\n",
    "    'age': [maybe_missing(random.randint(18, 65)) for _ in range(n)],\n",
    "    'department': [maybe_missing(random.choice(['IT', 'Sales', 'HR', 'Finance'])) for _ in range(n)]\n",
    "})\n",
    "\n",
    "\n",
    "\n",
    "\n",
    "missing_values = df.isna().sum(axis=0).reset_index(name='missing_count').sort_values(by='missing_count', ascending=False)\n",
    "\n",
    "print(missing_values)\n",
    "print('=='*20)\n",
    "top_3_missing = missing_values.head(3)\n",
    "print(top_3_missing)\n",
    "index = top_3_missing['index'].tolist()\n",
    "removed_nans = df.dropna(subset=index)\n",
    "print('=='*20)\n",
    "print(removed_nans)\n",
    "\n",
    "\n"
   ]
  },
  {
   "cell_type": "markdown",
   "id": "ca264259",
   "metadata": {},
   "source": [
    "# Task 3"
   ]
  },
  {
   "cell_type": "code",
   "execution_count": null,
   "id": "6d4298c9",
   "metadata": {},
   "outputs": [],
   "source": [
    "n = 100_000  # number of rows\n",
    "\n",
    "def maybe_missing(value, prob=0.1):\n",
    "    \"\"\"Return NaN with probability `prob`.\"\"\"\n",
    "    return value if random.random() > prob else np.nan\n",
    "\n",
    "# some limited categories to make realistic repetition\n",
    "departments = ['IT', 'Sales', 'HR', 'Finance', 'Marketing']\n",
    "countries = ['USA', 'Germany', 'France', 'Japan', 'UK', 'Canada']\n",
    "\n",
    "df = pd.DataFrame({\n",
    "    'id': range(1, n + 1),  # integer id\n",
    "    'name': [maybe_missing(fake.name(), 0.05) for _ in range(n)],  # string\n",
    "    'email': [maybe_missing(fake.email(), 0.05) for _ in range(n)],  # string\n",
    "    'country': [maybe_missing(random.choice(countries), 0.1) for _ in range(n)],  # categorical-like\n",
    "    'department': [maybe_missing(random.choice(departments), 0.1) for _ in range(n)],\n",
    "    'age': [maybe_missing(random.randint(18, 65), 0.05) for _ in range(n)],  # numeric int\n",
    "    'salary': [maybe_missing(round(random.uniform(2000, 15000), 2), 0.05) for _ in range(n)],  # numeric float\n",
    "    'is_remote': [random.choice([True, False]) for _ in range(n)],  # boolean\n",
    "    'join_date': [maybe_missing(fake.date_between(start_date='-5y', end_date='today'), 0.05) for _ in range(n)]  # datetime\n",
    "})\n",
    "\n",
    "print(df.head())\n",
    "\n"
   ]
  },
  {
   "cell_type": "code",
   "execution_count": 52,
   "id": "1bff88cc",
   "metadata": {},
   "outputs": [
    {
     "name": "stdout",
     "output_type": "stream",
     "text": [
      "id                             1\n",
      "name               Michael Smith\n",
      "email         zsmith@example.net\n",
      "country                      USA\n",
      "department               Finance\n",
      "age                         65.0\n",
      "salary                   9371.56\n",
      "is_remote                  False\n",
      "join_date             2021-08-08\n",
      "dtype: object\n"
     ]
    }
   ],
   "source": [
    "most_frequent_values_per_column = df.apply(lambda col: col.value_counts().idxmax())\n",
    "\n",
    "print(most_frequent_values_per_column)"
   ]
  },
  {
   "cell_type": "markdown",
   "id": "afc20180",
   "metadata": {},
   "source": [
    "# Task 4"
   ]
  },
  {
   "cell_type": "code",
   "execution_count": 58,
   "id": "5de96c43",
   "metadata": {},
   "outputs": [
    {
     "name": "stdout",
     "output_type": "stream",
     "text": [
      "      Employee ID        Date  Hours Worked\n",
      "4192            1  2023-11-03           6.7\n",
      "8230            1  2023-11-28           9.0\n",
      "2483            1  2023-12-06           NaN\n",
      "7005            1  2023-12-09           6.8\n",
      "1255            1  2023-12-12           NaN\n",
      "...           ...         ...           ...\n",
      "4872            1  2024-11-18           8.5\n",
      "40              1  2024-11-22           9.4\n",
      "9561            1  2024-11-25           9.0\n",
      "8840            1  2024-11-27           7.8\n",
      "910             1  2024-12-01           8.4\n",
      "\n",
      "[100 rows x 3 columns]\n"
     ]
    }
   ],
   "source": [
    "n = 10_000  # number of rows\n",
    "\n",
    "def maybe_missing(value, prob=0.05):\n",
    "    \"\"\"Return np.nan with probability `prob`.\"\"\"\n",
    "    return value if random.random() > prob else np.nan\n",
    "\n",
    "# Create DataFrame\n",
    "df_hours = pd.DataFrame({\n",
    "    'Employee ID': [random.randint(1, 50) for _ in range(n)],  # 50 employees\n",
    "    'Date': [maybe_missing(fake.date_between(start_date='-2y', end_date='today')) for _ in range(n)],\n",
    "    'Hours Worked': [maybe_missing(round(random.uniform(6, 10), 1)) for _ in range(n)]\n",
    "})\n",
    "\n",
    "df_hours.sort_values(by=['Employee ID', 'Date'], inplace=True)\n",
    "print(df_hours.head(100))\n"
   ]
  },
  {
   "cell_type": "code",
   "execution_count": null,
   "id": "9e684e8a",
   "metadata": {},
   "outputs": [],
   "source": []
  }
 ],
 "metadata": {
  "kernelspec": {
   "display_name": "Python 3",
   "language": "python",
   "name": "python3"
  },
  "language_info": {
   "codemirror_mode": {
    "name": "ipython",
    "version": 3
   },
   "file_extension": ".py",
   "mimetype": "text/x-python",
   "name": "python",
   "nbconvert_exporter": "python",
   "pygments_lexer": "ipython3",
   "version": "3.12.4"
  }
 },
 "nbformat": 4,
 "nbformat_minor": 5
}
